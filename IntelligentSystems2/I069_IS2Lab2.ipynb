{
  "nbformat": 4,
  "nbformat_minor": 0,
  "metadata": {
    "colab": {
      "provenance": []
    },
    "kernelspec": {
      "name": "python3",
      "display_name": "Python 3"
    },
    "language_info": {
      "name": "python"
    }
  },
  "cells": [
    {
      "cell_type": "markdown",
      "source": [
        "#Rusheel Sharma\n",
        "#I069\n",
        "#B.Tech AI B2\n",
        "#IS 2 Lab 2\n"
      ],
      "metadata": {
        "id": "26TRjjlNVwyU"
      }
    },
    {
      "cell_type": "markdown",
      "source": [
        "# Task 1\n",
        "Explore the pgmpy library and understand its use for probabilistic graphical models.\n",
        "The link to the library is given below:\n",
        "https://pgmpy.org/base.html\n",
        "Complete the following tasks:\n",
        "1.\tCreate an empty DAG with no nodes and no edges.\n",
        "2.\tExplore and add add nodes and edges to the model using different techniques.\n",
        "3.\tExplore and use different parameters like active_trail_nodes(), get_ancestral_graph(), get_children(), get_independencies(), get_leaves(), get_parents(), get_roots(), to_graphviz()\n"
      ],
      "metadata": {
        "id": "fatHD5sMWSqj"
      }
    },
    {
      "cell_type": "code",
      "source": [
        "!apt-get -qq install graphviz libgraphviz-dev pkg-config\n",
        "!pip install pygraphviz"
      ],
      "metadata": {
        "colab": {
          "base_uri": "https://localhost:8080/"
        },
        "id": "LU3Ac70EWZ9D",
        "outputId": "433b56fa-112b-4cbb-ab91-717e601ac7c3"
      },
      "execution_count": null,
      "outputs": [
        {
          "output_type": "stream",
          "name": "stdout",
          "text": [
            "(Reading database ... 126284 files and directories currently installed.)\n",
            "Removing r-base-dev (4.5.1-1.2204.0) ...\n",
            "dpkg: pkgconf: dependency problems, but removing anyway as you requested:\n",
            " libsndfile1-dev:amd64 depends on pkg-config; however:\n",
            "  Package pkg-config is not installed.\n",
            "  Package pkgconf which provides pkg-config is to be removed.\n",
            " libopencv-dev depends on pkg-config; however:\n",
            "  Package pkg-config is not installed.\n",
            "  Package pkgconf which provides pkg-config is to be removed.\n",
            " libmkl-dev:amd64 depends on pkg-config; however:\n",
            "  Package pkg-config is not installed.\n",
            "  Package pkgconf which provides pkg-config is to be removed.\n",
            " libjack-dev depends on pkg-config; however:\n",
            "  Package pkg-config is not installed.\n",
            "  Package pkgconf which provides pkg-config is to be removed.\n",
            " libgphoto2-dev:amd64 depends on pkg-config; however:\n",
            "  Package pkg-config is not installed.\n",
            "  Package pkgconf which provides pkg-config is to be removed.\n",
            " libglib2.0-dev:amd64 depends on pkg-config; however:\n",
            "  Package pkg-config is not installed.\n",
            "  Package pkgconf which provides pkg-config is to be removed.\n",
            " libfontconfig-dev:amd64 depends on pkg-config; however:\n",
            "  Package pkg-config is not installed.\n",
            "  Package pkgconf which provides pkg-config is to be removed.\n",
            "\n",
            "Removing pkgconf (1.8.0-1) ...\n",
            "Removing 'diversion of /usr/bin/pkg-config to /usr/bin/pkg-config.real by pkgconf'\n",
            "Removing 'diversion of /usr/share/aclocal/pkg.m4 to /usr/share/aclocal/pkg.real.m4 by pkgconf'\n",
            "Removing 'diversion of /usr/share/man/man1/pkg-config.1.gz to /usr/share/man/man1/pkg-config.real.1.gz by pkgconf'\n",
            "Removing 'diversion of /usr/share/pkg-config-crosswrapper to /usr/share/pkg-config-crosswrapper.real by pkgconf'\n",
            "Selecting previously unselected package pkg-config.\n",
            "(Reading database ... 126260 files and directories currently installed.)\n",
            "Preparing to unpack .../0-pkg-config_0.29.2-1ubuntu3_amd64.deb ...\n",
            "Unpacking pkg-config (0.29.2-1ubuntu3) ...\n",
            "Selecting previously unselected package libgtk2.0-common.\n",
            "Preparing to unpack .../1-libgtk2.0-common_2.24.33-2ubuntu2.1_all.deb ...\n",
            "Unpacking libgtk2.0-common (2.24.33-2ubuntu2.1) ...\n",
            "Selecting previously unselected package libgtk2.0-0:amd64.\n",
            "Preparing to unpack .../2-libgtk2.0-0_2.24.33-2ubuntu2.1_amd64.deb ...\n",
            "Unpacking libgtk2.0-0:amd64 (2.24.33-2ubuntu2.1) ...\n",
            "Selecting previously unselected package libgail18:amd64.\n",
            "Preparing to unpack .../3-libgail18_2.24.33-2ubuntu2.1_amd64.deb ...\n",
            "Unpacking libgail18:amd64 (2.24.33-2ubuntu2.1) ...\n",
            "Selecting previously unselected package libgail-common:amd64.\n",
            "Preparing to unpack .../4-libgail-common_2.24.33-2ubuntu2.1_amd64.deb ...\n",
            "Unpacking libgail-common:amd64 (2.24.33-2ubuntu2.1) ...\n",
            "Selecting previously unselected package libxdot4:amd64.\n",
            "Preparing to unpack .../5-libxdot4_2.42.2-6ubuntu0.1_amd64.deb ...\n",
            "Unpacking libxdot4:amd64 (2.42.2-6ubuntu0.1) ...\n",
            "Selecting previously unselected package libgvc6-plugins-gtk.\n",
            "Preparing to unpack .../6-libgvc6-plugins-gtk_2.42.2-6ubuntu0.1_amd64.deb ...\n",
            "Unpacking libgvc6-plugins-gtk (2.42.2-6ubuntu0.1) ...\n",
            "Selecting previously unselected package libgraphviz-dev:amd64.\n",
            "Preparing to unpack .../7-libgraphviz-dev_2.42.2-6ubuntu0.1_amd64.deb ...\n",
            "Unpacking libgraphviz-dev:amd64 (2.42.2-6ubuntu0.1) ...\n",
            "Selecting previously unselected package libgtk2.0-bin.\n",
            "Preparing to unpack .../8-libgtk2.0-bin_2.24.33-2ubuntu2.1_amd64.deb ...\n",
            "Unpacking libgtk2.0-bin (2.24.33-2ubuntu2.1) ...\n",
            "Selecting previously unselected package librsvg2-common:amd64.\n",
            "Preparing to unpack .../9-librsvg2-common_2.52.5+dfsg-3ubuntu0.2_amd64.deb ...\n",
            "Unpacking librsvg2-common:amd64 (2.52.5+dfsg-3ubuntu0.2) ...\n",
            "Setting up libxdot4:amd64 (2.42.2-6ubuntu0.1) ...\n",
            "Setting up pkg-config (0.29.2-1ubuntu3) ...\n",
            "Setting up librsvg2-common:amd64 (2.52.5+dfsg-3ubuntu0.2) ...\n",
            "Setting up libgtk2.0-common (2.24.33-2ubuntu2.1) ...\n",
            "Setting up libgtk2.0-0:amd64 (2.24.33-2ubuntu2.1) ...\n",
            "Setting up libgvc6-plugins-gtk (2.42.2-6ubuntu0.1) ...\n",
            "Setting up libgail18:amd64 (2.24.33-2ubuntu2.1) ...\n",
            "Setting up libgtk2.0-bin (2.24.33-2ubuntu2.1) ...\n",
            "Setting up libgail-common:amd64 (2.24.33-2ubuntu2.1) ...\n",
            "Setting up libgraphviz-dev:amd64 (2.42.2-6ubuntu0.1) ...\n",
            "Processing triggers for libc-bin (2.35-0ubuntu3.8) ...\n",
            "/sbin/ldconfig.real: /usr/local/lib/libur_adapter_level_zero.so.0 is not a symbolic link\n",
            "\n",
            "/sbin/ldconfig.real: /usr/local/lib/libtbbbind_2_5.so.3 is not a symbolic link\n",
            "\n",
            "/sbin/ldconfig.real: /usr/local/lib/libur_adapter_level_zero_v2.so.0 is not a symbolic link\n",
            "\n",
            "/sbin/ldconfig.real: /usr/local/lib/libtbbmalloc.so.2 is not a symbolic link\n",
            "\n",
            "/sbin/ldconfig.real: /usr/local/lib/libtcm.so.1 is not a symbolic link\n",
            "\n",
            "/sbin/ldconfig.real: /usr/local/lib/libur_adapter_opencl.so.0 is not a symbolic link\n",
            "\n",
            "/sbin/ldconfig.real: /usr/local/lib/libtbbmalloc_proxy.so.2 is not a symbolic link\n",
            "\n",
            "/sbin/ldconfig.real: /usr/local/lib/libtbbbind_2_0.so.3 is not a symbolic link\n",
            "\n",
            "/sbin/ldconfig.real: /usr/local/lib/libtbbbind.so.3 is not a symbolic link\n",
            "\n",
            "/sbin/ldconfig.real: /usr/local/lib/libhwloc.so.15 is not a symbolic link\n",
            "\n",
            "/sbin/ldconfig.real: /usr/local/lib/libtbb.so.12 is not a symbolic link\n",
            "\n",
            "/sbin/ldconfig.real: /usr/local/lib/libumf.so.0 is not a symbolic link\n",
            "\n",
            "/sbin/ldconfig.real: /usr/local/lib/libur_loader.so.0 is not a symbolic link\n",
            "\n",
            "/sbin/ldconfig.real: /usr/local/lib/libtcm_debug.so.1 is not a symbolic link\n",
            "\n",
            "Processing triggers for man-db (2.10.2-1) ...\n",
            "Processing triggers for libgdk-pixbuf-2.0-0:amd64 (2.42.8+dfsg-1ubuntu0.4) ...\n",
            "Collecting pygraphviz\n",
            "  Downloading pygraphviz-1.14.tar.gz (106 kB)\n",
            "\u001b[2K     \u001b[90m━━━━━━━━━━━━━━━━━━━━━━━━━━━━━━━━━━━━━━━\u001b[0m \u001b[32m106.0/106.0 kB\u001b[0m \u001b[31m2.5 MB/s\u001b[0m eta \u001b[36m0:00:00\u001b[0m\n",
            "\u001b[?25h  Installing build dependencies ... \u001b[?25l\u001b[?25hdone\n",
            "  Getting requirements to build wheel ... \u001b[?25l\u001b[?25hdone\n",
            "  Preparing metadata (pyproject.toml) ... \u001b[?25l\u001b[?25hdone\n",
            "Building wheels for collected packages: pygraphviz\n",
            "  Building wheel for pygraphviz (pyproject.toml) ... \u001b[?25l\u001b[?25hdone\n",
            "  Created wheel for pygraphviz: filename=pygraphviz-1.14-cp311-cp311-linux_x86_64.whl size=169717 sha256=1382d5389348c2d706b45da172e986872befedde02e426ae7631c13a085f2a5f\n",
            "  Stored in directory: /root/.cache/pip/wheels/9c/5f/df/6fffd2a4353f26dbb0e3672a1baf070c124a1d74a5f9318279\n",
            "Successfully built pygraphviz\n",
            "Installing collected packages: pygraphviz\n",
            "Successfully installed pygraphviz-1.14\n"
          ]
        }
      ]
    },
    {
      "cell_type": "code",
      "source": [
        "!pip install pgmpy"
      ],
      "metadata": {
        "colab": {
          "base_uri": "https://localhost:8080/"
        },
        "id": "IHLsIevrXJDi",
        "outputId": "e24a209d-bfaa-4c1a-ee32-45a12e91aace"
      },
      "execution_count": null,
      "outputs": [
        {
          "output_type": "stream",
          "name": "stdout",
          "text": [
            "Collecting pgmpy\n",
            "  Downloading pgmpy-1.0.0-py3-none-any.whl.metadata (9.4 kB)\n",
            "Requirement already satisfied: networkx in /usr/local/lib/python3.11/dist-packages (from pgmpy) (3.5)\n",
            "Requirement already satisfied: numpy in /usr/local/lib/python3.11/dist-packages (from pgmpy) (2.0.2)\n",
            "Requirement already satisfied: scipy in /usr/local/lib/python3.11/dist-packages (from pgmpy) (1.16.0)\n",
            "Requirement already satisfied: scikit-learn in /usr/local/lib/python3.11/dist-packages (from pgmpy) (1.6.1)\n",
            "Requirement already satisfied: pandas in /usr/local/lib/python3.11/dist-packages (from pgmpy) (2.2.2)\n",
            "Requirement already satisfied: torch in /usr/local/lib/python3.11/dist-packages (from pgmpy) (2.6.0+cu124)\n",
            "Requirement already satisfied: statsmodels in /usr/local/lib/python3.11/dist-packages (from pgmpy) (0.14.5)\n",
            "Requirement already satisfied: tqdm in /usr/local/lib/python3.11/dist-packages (from pgmpy) (4.67.1)\n",
            "Requirement already satisfied: joblib in /usr/local/lib/python3.11/dist-packages (from pgmpy) (1.5.1)\n",
            "Requirement already satisfied: opt-einsum in /usr/local/lib/python3.11/dist-packages (from pgmpy) (3.4.0)\n",
            "Collecting pyro-ppl (from pgmpy)\n",
            "  Downloading pyro_ppl-1.9.1-py3-none-any.whl.metadata (7.8 kB)\n",
            "Requirement already satisfied: python-dateutil>=2.8.2 in /usr/local/lib/python3.11/dist-packages (from pandas->pgmpy) (2.9.0.post0)\n",
            "Requirement already satisfied: pytz>=2020.1 in /usr/local/lib/python3.11/dist-packages (from pandas->pgmpy) (2025.2)\n",
            "Requirement already satisfied: tzdata>=2022.7 in /usr/local/lib/python3.11/dist-packages (from pandas->pgmpy) (2025.2)\n",
            "Collecting pyro-api>=0.1.1 (from pyro-ppl->pgmpy)\n",
            "  Downloading pyro_api-0.1.2-py3-none-any.whl.metadata (2.5 kB)\n",
            "Requirement already satisfied: filelock in /usr/local/lib/python3.11/dist-packages (from torch->pgmpy) (3.18.0)\n",
            "Requirement already satisfied: typing-extensions>=4.10.0 in /usr/local/lib/python3.11/dist-packages (from torch->pgmpy) (4.14.1)\n",
            "Requirement already satisfied: jinja2 in /usr/local/lib/python3.11/dist-packages (from torch->pgmpy) (3.1.6)\n",
            "Requirement already satisfied: fsspec in /usr/local/lib/python3.11/dist-packages (from torch->pgmpy) (2025.7.0)\n",
            "Collecting nvidia-cuda-nvrtc-cu12==12.4.127 (from torch->pgmpy)\n",
            "  Downloading nvidia_cuda_nvrtc_cu12-12.4.127-py3-none-manylinux2014_x86_64.whl.metadata (1.5 kB)\n",
            "Collecting nvidia-cuda-runtime-cu12==12.4.127 (from torch->pgmpy)\n",
            "  Downloading nvidia_cuda_runtime_cu12-12.4.127-py3-none-manylinux2014_x86_64.whl.metadata (1.5 kB)\n",
            "Collecting nvidia-cuda-cupti-cu12==12.4.127 (from torch->pgmpy)\n",
            "  Downloading nvidia_cuda_cupti_cu12-12.4.127-py3-none-manylinux2014_x86_64.whl.metadata (1.6 kB)\n",
            "Collecting nvidia-cudnn-cu12==9.1.0.70 (from torch->pgmpy)\n",
            "  Downloading nvidia_cudnn_cu12-9.1.0.70-py3-none-manylinux2014_x86_64.whl.metadata (1.6 kB)\n",
            "Collecting nvidia-cublas-cu12==12.4.5.8 (from torch->pgmpy)\n",
            "  Downloading nvidia_cublas_cu12-12.4.5.8-py3-none-manylinux2014_x86_64.whl.metadata (1.5 kB)\n",
            "Collecting nvidia-cufft-cu12==11.2.1.3 (from torch->pgmpy)\n",
            "  Downloading nvidia_cufft_cu12-11.2.1.3-py3-none-manylinux2014_x86_64.whl.metadata (1.5 kB)\n",
            "Collecting nvidia-curand-cu12==10.3.5.147 (from torch->pgmpy)\n",
            "  Downloading nvidia_curand_cu12-10.3.5.147-py3-none-manylinux2014_x86_64.whl.metadata (1.5 kB)\n",
            "Collecting nvidia-cusolver-cu12==11.6.1.9 (from torch->pgmpy)\n",
            "  Downloading nvidia_cusolver_cu12-11.6.1.9-py3-none-manylinux2014_x86_64.whl.metadata (1.6 kB)\n",
            "Collecting nvidia-cusparse-cu12==12.3.1.170 (from torch->pgmpy)\n",
            "  Downloading nvidia_cusparse_cu12-12.3.1.170-py3-none-manylinux2014_x86_64.whl.metadata (1.6 kB)\n",
            "Requirement already satisfied: nvidia-cusparselt-cu12==0.6.2 in /usr/local/lib/python3.11/dist-packages (from torch->pgmpy) (0.6.2)\n",
            "Requirement already satisfied: nvidia-nccl-cu12==2.21.5 in /usr/local/lib/python3.11/dist-packages (from torch->pgmpy) (2.21.5)\n",
            "Requirement already satisfied: nvidia-nvtx-cu12==12.4.127 in /usr/local/lib/python3.11/dist-packages (from torch->pgmpy) (12.4.127)\n",
            "Collecting nvidia-nvjitlink-cu12==12.4.127 (from torch->pgmpy)\n",
            "  Downloading nvidia_nvjitlink_cu12-12.4.127-py3-none-manylinux2014_x86_64.whl.metadata (1.5 kB)\n",
            "Requirement already satisfied: triton==3.2.0 in /usr/local/lib/python3.11/dist-packages (from torch->pgmpy) (3.2.0)\n",
            "Requirement already satisfied: sympy==1.13.1 in /usr/local/lib/python3.11/dist-packages (from torch->pgmpy) (1.13.1)\n",
            "Requirement already satisfied: mpmath<1.4,>=1.1.0 in /usr/local/lib/python3.11/dist-packages (from sympy==1.13.1->torch->pgmpy) (1.3.0)\n",
            "Requirement already satisfied: threadpoolctl>=3.1.0 in /usr/local/lib/python3.11/dist-packages (from scikit-learn->pgmpy) (3.6.0)\n",
            "Requirement already satisfied: patsy>=0.5.6 in /usr/local/lib/python3.11/dist-packages (from statsmodels->pgmpy) (1.0.1)\n",
            "Requirement already satisfied: packaging>=21.3 in /usr/local/lib/python3.11/dist-packages (from statsmodels->pgmpy) (25.0)\n",
            "Requirement already satisfied: six>=1.5 in /usr/local/lib/python3.11/dist-packages (from python-dateutil>=2.8.2->pandas->pgmpy) (1.17.0)\n",
            "Requirement already satisfied: MarkupSafe>=2.0 in /usr/local/lib/python3.11/dist-packages (from jinja2->torch->pgmpy) (3.0.2)\n",
            "Downloading pgmpy-1.0.0-py3-none-any.whl (2.0 MB)\n",
            "\u001b[2K   \u001b[90m━━━━━━━━━━━━━━━━━━━━━━━━━━━━━━━━━━━━━━━━\u001b[0m \u001b[32m2.0/2.0 MB\u001b[0m \u001b[31m21.7 MB/s\u001b[0m eta \u001b[36m0:00:00\u001b[0m\n",
            "\u001b[?25hDownloading pyro_ppl-1.9.1-py3-none-any.whl (755 kB)\n",
            "\u001b[2K   \u001b[90m━━━━━━━━━━━━━━━━━━━━━━━━━━━━━━━━━━━━━━━━\u001b[0m \u001b[32m756.0/756.0 kB\u001b[0m \u001b[31m41.2 MB/s\u001b[0m eta \u001b[36m0:00:00\u001b[0m\n",
            "\u001b[?25hDownloading nvidia_cublas_cu12-12.4.5.8-py3-none-manylinux2014_x86_64.whl (363.4 MB)\n",
            "\u001b[2K   \u001b[90m━━━━━━━━━━━━━━━━━━━━━━━━━━━━━━━━━━━━━━━━\u001b[0m \u001b[32m363.4/363.4 MB\u001b[0m \u001b[31m4.3 MB/s\u001b[0m eta \u001b[36m0:00:00\u001b[0m\n",
            "\u001b[?25hDownloading nvidia_cuda_cupti_cu12-12.4.127-py3-none-manylinux2014_x86_64.whl (13.8 MB)\n",
            "\u001b[2K   \u001b[90m━━━━━━━━━━━━━━━━━━━━━━━━━━━━━━━━━━━━━━━━\u001b[0m \u001b[32m13.8/13.8 MB\u001b[0m \u001b[31m27.1 MB/s\u001b[0m eta \u001b[36m0:00:00\u001b[0m\n",
            "\u001b[?25hDownloading nvidia_cuda_nvrtc_cu12-12.4.127-py3-none-manylinux2014_x86_64.whl (24.6 MB)\n",
            "\u001b[2K   \u001b[90m━━━━━━━━━━━━━━━━━━━━━━━━━━━━━━━━━━━━━━━━\u001b[0m \u001b[32m24.6/24.6 MB\u001b[0m \u001b[31m21.9 MB/s\u001b[0m eta \u001b[36m0:00:00\u001b[0m\n",
            "\u001b[?25hDownloading nvidia_cuda_runtime_cu12-12.4.127-py3-none-manylinux2014_x86_64.whl (883 kB)\n",
            "\u001b[2K   \u001b[90m━━━━━━━━━━━━━━━━━━━━━━━━━━━━━━━━━━━━━━━━\u001b[0m \u001b[32m883.7/883.7 kB\u001b[0m \u001b[31m21.8 MB/s\u001b[0m eta \u001b[36m0:00:00\u001b[0m\n",
            "\u001b[?25hDownloading nvidia_cudnn_cu12-9.1.0.70-py3-none-manylinux2014_x86_64.whl (664.8 MB)\n",
            "\u001b[2K   \u001b[90m━━━━━━━━━━━━━━━━━━━━━━━━━━━━━━━━━━━━━━━\u001b[0m \u001b[32m664.8/664.8 MB\u001b[0m \u001b[31m866.7 kB/s\u001b[0m eta \u001b[36m0:00:00\u001b[0m\n",
            "\u001b[?25hDownloading nvidia_cufft_cu12-11.2.1.3-py3-none-manylinux2014_x86_64.whl (211.5 MB)\n",
            "\u001b[2K   \u001b[90m━━━━━━━━━━━━━━━━━━━━━━━━━━━━━━━━━━━━━━━━\u001b[0m \u001b[32m211.5/211.5 MB\u001b[0m \u001b[31m4.7 MB/s\u001b[0m eta \u001b[36m0:00:00\u001b[0m\n",
            "\u001b[?25hDownloading nvidia_curand_cu12-10.3.5.147-py3-none-manylinux2014_x86_64.whl (56.3 MB)\n",
            "\u001b[2K   \u001b[90m━━━━━━━━━━━━━━━━━━━━━━━━━━━━━━━━━━━━━━━━\u001b[0m \u001b[32m56.3/56.3 MB\u001b[0m \u001b[31m12.8 MB/s\u001b[0m eta \u001b[36m0:00:00\u001b[0m\n",
            "\u001b[?25hDownloading nvidia_cusolver_cu12-11.6.1.9-py3-none-manylinux2014_x86_64.whl (127.9 MB)\n",
            "\u001b[2K   \u001b[90m━━━━━━━━━━━━━━━━━━━━━━━━━━━━━━━━━━━━━━━━\u001b[0m \u001b[32m127.9/127.9 MB\u001b[0m \u001b[31m6.7 MB/s\u001b[0m eta \u001b[36m0:00:00\u001b[0m\n",
            "\u001b[?25hDownloading nvidia_cusparse_cu12-12.3.1.170-py3-none-manylinux2014_x86_64.whl (207.5 MB)\n",
            "\u001b[2K   \u001b[90m━━━━━━━━━━━━━━━━━━━━━━━━━━━━━━━━━━━━━━━━\u001b[0m \u001b[32m207.5/207.5 MB\u001b[0m \u001b[31m6.2 MB/s\u001b[0m eta \u001b[36m0:00:00\u001b[0m\n",
            "\u001b[?25hDownloading nvidia_nvjitlink_cu12-12.4.127-py3-none-manylinux2014_x86_64.whl (21.1 MB)\n",
            "\u001b[2K   \u001b[90m━━━━━━━━━━━━━━━━━━━━━━━━━━━━━━━━━━━━━━━━\u001b[0m \u001b[32m21.1/21.1 MB\u001b[0m \u001b[31m77.4 MB/s\u001b[0m eta \u001b[36m0:00:00\u001b[0m\n",
            "\u001b[?25hDownloading pyro_api-0.1.2-py3-none-any.whl (11 kB)\n",
            "Installing collected packages: pyro-api, nvidia-nvjitlink-cu12, nvidia-curand-cu12, nvidia-cufft-cu12, nvidia-cuda-runtime-cu12, nvidia-cuda-nvrtc-cu12, nvidia-cuda-cupti-cu12, nvidia-cublas-cu12, nvidia-cusparse-cu12, nvidia-cudnn-cu12, nvidia-cusolver-cu12, pyro-ppl, pgmpy\n",
            "  Attempting uninstall: nvidia-nvjitlink-cu12\n",
            "    Found existing installation: nvidia-nvjitlink-cu12 12.5.82\n",
            "    Uninstalling nvidia-nvjitlink-cu12-12.5.82:\n",
            "      Successfully uninstalled nvidia-nvjitlink-cu12-12.5.82\n",
            "  Attempting uninstall: nvidia-curand-cu12\n",
            "    Found existing installation: nvidia-curand-cu12 10.3.6.82\n",
            "    Uninstalling nvidia-curand-cu12-10.3.6.82:\n",
            "      Successfully uninstalled nvidia-curand-cu12-10.3.6.82\n",
            "  Attempting uninstall: nvidia-cufft-cu12\n",
            "    Found existing installation: nvidia-cufft-cu12 11.2.3.61\n",
            "    Uninstalling nvidia-cufft-cu12-11.2.3.61:\n",
            "      Successfully uninstalled nvidia-cufft-cu12-11.2.3.61\n",
            "  Attempting uninstall: nvidia-cuda-runtime-cu12\n",
            "    Found existing installation: nvidia-cuda-runtime-cu12 12.5.82\n",
            "    Uninstalling nvidia-cuda-runtime-cu12-12.5.82:\n",
            "      Successfully uninstalled nvidia-cuda-runtime-cu12-12.5.82\n",
            "  Attempting uninstall: nvidia-cuda-nvrtc-cu12\n",
            "    Found existing installation: nvidia-cuda-nvrtc-cu12 12.5.82\n",
            "    Uninstalling nvidia-cuda-nvrtc-cu12-12.5.82:\n",
            "      Successfully uninstalled nvidia-cuda-nvrtc-cu12-12.5.82\n",
            "  Attempting uninstall: nvidia-cuda-cupti-cu12\n",
            "    Found existing installation: nvidia-cuda-cupti-cu12 12.5.82\n",
            "    Uninstalling nvidia-cuda-cupti-cu12-12.5.82:\n",
            "      Successfully uninstalled nvidia-cuda-cupti-cu12-12.5.82\n",
            "  Attempting uninstall: nvidia-cublas-cu12\n",
            "    Found existing installation: nvidia-cublas-cu12 12.5.3.2\n",
            "    Uninstalling nvidia-cublas-cu12-12.5.3.2:\n",
            "      Successfully uninstalled nvidia-cublas-cu12-12.5.3.2\n",
            "  Attempting uninstall: nvidia-cusparse-cu12\n",
            "    Found existing installation: nvidia-cusparse-cu12 12.5.1.3\n",
            "    Uninstalling nvidia-cusparse-cu12-12.5.1.3:\n",
            "      Successfully uninstalled nvidia-cusparse-cu12-12.5.1.3\n",
            "  Attempting uninstall: nvidia-cudnn-cu12\n",
            "    Found existing installation: nvidia-cudnn-cu12 9.3.0.75\n",
            "    Uninstalling nvidia-cudnn-cu12-9.3.0.75:\n",
            "      Successfully uninstalled nvidia-cudnn-cu12-9.3.0.75\n",
            "  Attempting uninstall: nvidia-cusolver-cu12\n",
            "    Found existing installation: nvidia-cusolver-cu12 11.6.3.83\n",
            "    Uninstalling nvidia-cusolver-cu12-11.6.3.83:\n",
            "      Successfully uninstalled nvidia-cusolver-cu12-11.6.3.83\n",
            "Successfully installed nvidia-cublas-cu12-12.4.5.8 nvidia-cuda-cupti-cu12-12.4.127 nvidia-cuda-nvrtc-cu12-12.4.127 nvidia-cuda-runtime-cu12-12.4.127 nvidia-cudnn-cu12-9.1.0.70 nvidia-cufft-cu12-11.2.1.3 nvidia-curand-cu12-10.3.5.147 nvidia-cusolver-cu12-11.6.1.9 nvidia-cusparse-cu12-12.3.1.170 nvidia-nvjitlink-cu12-12.4.127 pgmpy-1.0.0 pyro-api-0.1.2 pyro-ppl-1.9.1\n"
          ]
        }
      ]
    },
    {
      "cell_type": "code",
      "execution_count": null,
      "metadata": {
        "id": "EOpP5MEAUhhq"
      },
      "outputs": [],
      "source": [
        "import pygraphviz\n",
        "from pgmpy.base import DAG"
      ]
    },
    {
      "cell_type": "code",
      "source": [
        "g = DAG()"
      ],
      "metadata": {
        "id": "_FYsOttKWY48"
      },
      "execution_count": null,
      "outputs": []
    },
    {
      "cell_type": "code",
      "source": [
        "print(g.nodes())\n",
        "print(g.edges())"
      ],
      "metadata": {
        "colab": {
          "base_uri": "https://localhost:8080/"
        },
        "id": "S7XWbkvEZl3h",
        "outputId": "95eac369-824b-45bb-ccb9-8fe74b019b46"
      },
      "execution_count": null,
      "outputs": [
        {
          "output_type": "stream",
          "name": "stdout",
          "text": [
            "[]\n",
            "[]\n"
          ]
        }
      ]
    },
    {
      "cell_type": "code",
      "source": [
        "g.add_node(\"A\")"
      ],
      "metadata": {
        "id": "w7ZSkGbAZ3Uf"
      },
      "execution_count": null,
      "outputs": []
    },
    {
      "cell_type": "code",
      "source": [
        "g.add_nodes_from([ 'B', 'C','D'])"
      ],
      "metadata": {
        "id": "zg0RbE6qZ1OZ"
      },
      "execution_count": null,
      "outputs": []
    },
    {
      "cell_type": "code",
      "source": [
        "g.add_edge('B', 'C')\n",
        "g.add_edges_from([ ('C','D'),('D','E'),(\"A\",\"E\")])"
      ],
      "metadata": {
        "id": "hfiQG7eWaNR2"
      },
      "execution_count": null,
      "outputs": []
    },
    {
      "cell_type": "code",
      "source": [
        "g.nodes"
      ],
      "metadata": {
        "colab": {
          "base_uri": "https://localhost:8080/"
        },
        "id": "8ZTF67fBalBe",
        "outputId": "405ab0b7-cb4c-4878-986d-8a00ba159eb5"
      },
      "execution_count": null,
      "outputs": [
        {
          "output_type": "execute_result",
          "data": {
            "text/plain": [
              "NodeView(('A', 'B', 'C', 'D', 'E'))"
            ]
          },
          "metadata": {},
          "execution_count": 44
        }
      ]
    },
    {
      "cell_type": "code",
      "source": [
        "g.edges"
      ],
      "metadata": {
        "colab": {
          "base_uri": "https://localhost:8080/"
        },
        "id": "-QXRlimyaoIm",
        "outputId": "50a5acdf-d6ec-4199-b4a7-ddc59c1030aa"
      },
      "execution_count": null,
      "outputs": [
        {
          "output_type": "execute_result",
          "data": {
            "text/plain": [
              "OutEdgeView([('A', 'E'), ('B', 'C'), ('C', 'D'), ('D', 'E')])"
            ]
          },
          "metadata": {},
          "execution_count": 45
        }
      ]
    },
    {
      "cell_type": "code",
      "source": [
        "g.get_roots()"
      ],
      "metadata": {
        "colab": {
          "base_uri": "https://localhost:8080/"
        },
        "id": "Lbab1v-GapPe",
        "outputId": "8289cfa5-5cb1-4345-a433-0c71a312c36e"
      },
      "execution_count": null,
      "outputs": [
        {
          "output_type": "execute_result",
          "data": {
            "text/plain": [
              "['A', 'B']"
            ]
          },
          "metadata": {},
          "execution_count": 46
        }
      ]
    },
    {
      "cell_type": "code",
      "source": [
        "g.get_leaves()"
      ],
      "metadata": {
        "colab": {
          "base_uri": "https://localhost:8080/"
        },
        "id": "TwGQK9MCa381",
        "outputId": "ff40ea39-0448-4c8e-875b-d381a2230108"
      },
      "execution_count": null,
      "outputs": [
        {
          "output_type": "execute_result",
          "data": {
            "text/plain": [
              "['E']"
            ]
          },
          "metadata": {},
          "execution_count": 47
        }
      ]
    },
    {
      "cell_type": "code",
      "source": [
        "g.get_parents(\"D\")\n"
      ],
      "metadata": {
        "colab": {
          "base_uri": "https://localhost:8080/"
        },
        "id": "owyHnJnda7IF",
        "outputId": "80ff8a89-cd70-43bf-b72c-2aa41a0dfc2d"
      },
      "execution_count": null,
      "outputs": [
        {
          "output_type": "execute_result",
          "data": {
            "text/plain": [
              "['C']"
            ]
          },
          "metadata": {},
          "execution_count": 48
        }
      ]
    },
    {
      "cell_type": "code",
      "source": [
        "g.get_children (\"B\")"
      ],
      "metadata": {
        "colab": {
          "base_uri": "https://localhost:8080/"
        },
        "id": "mbrB7whgbGVF",
        "outputId": "7c4a0d4b-814e-42a0-c172-6d79bf1a25e6"
      },
      "execution_count": null,
      "outputs": [
        {
          "output_type": "execute_result",
          "data": {
            "text/plain": [
              "['C']"
            ]
          },
          "metadata": {},
          "execution_count": 49
        }
      ]
    },
    {
      "cell_type": "markdown",
      "source": [
        "Ancestral Graph"
      ],
      "metadata": {
        "id": "ZAaucivLb8Dt"
      }
    },
    {
      "cell_type": "code",
      "source": [
        "ancD = g.get_ancestral_graph(nodes =[\"D\"])\n",
        "print (ancD)"
      ],
      "metadata": {
        "colab": {
          "base_uri": "https://localhost:8080/"
        },
        "id": "dKRRn-7sbJBF",
        "outputId": "2bd68ff6-e312-468e-d4d2-66b224892026"
      },
      "execution_count": null,
      "outputs": [
        {
          "output_type": "stream",
          "name": "stdout",
          "text": [
            "DAG with 3 nodes and 2 edges\n"
          ]
        }
      ]
    },
    {
      "cell_type": "code",
      "source": [
        "ancD.nodes"
      ],
      "metadata": {
        "colab": {
          "base_uri": "https://localhost:8080/"
        },
        "id": "WbtHoBajbYGt",
        "outputId": "e2ce3813-4323-4c35-dee9-6ab091bc511b"
      },
      "execution_count": null,
      "outputs": [
        {
          "output_type": "execute_result",
          "data": {
            "text/plain": [
              "NodeView(('B', 'C', 'D'))"
            ]
          },
          "metadata": {},
          "execution_count": 51
        }
      ]
    },
    {
      "cell_type": "code",
      "source": [
        "ancD.edges"
      ],
      "metadata": {
        "colab": {
          "base_uri": "https://localhost:8080/"
        },
        "id": "0gMDBPmlbxUM",
        "outputId": "7af425eb-c65c-4923-b804-3ff68c54b7db"
      },
      "execution_count": null,
      "outputs": [
        {
          "output_type": "execute_result",
          "data": {
            "text/plain": [
              "OutEdgeView([('B', 'C'), ('C', 'D')])"
            ]
          },
          "metadata": {},
          "execution_count": 52
        }
      ]
    },
    {
      "cell_type": "code",
      "source": [
        "fromA = g.active_trail_nodes([\"A\"])\n",
        "print(fromA)"
      ],
      "metadata": {
        "colab": {
          "base_uri": "https://localhost:8080/"
        },
        "id": "BNnG0-Xub5ek",
        "outputId": "b0a76fd1-6d65-40c7-9232-bb2c95f358a6"
      },
      "execution_count": null,
      "outputs": [
        {
          "output_type": "stream",
          "name": "stdout",
          "text": [
            "{'A': {'E', 'A'}}\n"
          ]
        }
      ]
    },
    {
      "cell_type": "code",
      "source": [
        "fromC = g.active_trail_nodes([\"C\"])\n",
        "print(fromC)"
      ],
      "metadata": {
        "colab": {
          "base_uri": "https://localhost:8080/"
        },
        "id": "1teTJx45cPRk",
        "outputId": "ef3bd261-70cc-40b6-9688-cd88611fd252"
      },
      "execution_count": null,
      "outputs": [
        {
          "output_type": "stream",
          "name": "stdout",
          "text": [
            "{'C': {'D', 'C', 'B', 'E'}}\n"
          ]
        }
      ]
    },
    {
      "cell_type": "code",
      "source": [
        "inde = g.get_independencies()\n",
        "print(inde)"
      ],
      "metadata": {
        "colab": {
          "base_uri": "https://localhost:8080/"
        },
        "id": "teMQaf9LcY5k",
        "outputId": "7a616baa-6522-4c13-9892-29828b66a3ce"
      },
      "execution_count": null,
      "outputs": [
        {
          "output_type": "stream",
          "name": "stdout",
          "text": [
            "(E ⟂ B | D)\n",
            "(D ⟂ B | C)\n",
            "(A ⟂ B)\n",
            "(E ⟂ C | D)\n",
            "(A ⟂ D)\n",
            "(A ⟂ C)\n"
          ]
        }
      ]
    },
    {
      "cell_type": "code",
      "source": [
        "graph = g.to_graphviz()\n",
        "print(graph)"
      ],
      "metadata": {
        "colab": {
          "base_uri": "https://localhost:8080/"
        },
        "id": "yQEtQJEAcfg8",
        "outputId": "afe1ccf7-a382-4b7b-d8b2-91d27206b690"
      },
      "execution_count": null,
      "outputs": [
        {
          "output_type": "stream",
          "name": "stdout",
          "text": [
            "strict digraph \"\" {\n",
            "\tA\t[weight=None];\n",
            "\tA -> E\t[weight=None];\n",
            "\tB\t[weight=None];\n",
            "\tC\t[weight=None];\n",
            "\tB -> C\t[weight=None];\n",
            "\tD\t[weight=None];\n",
            "\tC -> D\t[weight=None];\n",
            "\tD -> E\t[weight=None];\n",
            "}\n",
            "\n"
          ]
        }
      ]
    },
    {
      "cell_type": "code",
      "source": [
        "from IPython.display import Image"
      ],
      "metadata": {
        "id": "LELabUg6dCr1"
      },
      "execution_count": null,
      "outputs": []
    },
    {
      "cell_type": "code",
      "source": [
        "graph.draw(\"graph.png\", prog = \"dot\")\n",
        "Image(\"graph.png\")"
      ],
      "metadata": {
        "colab": {
          "base_uri": "https://localhost:8080/",
          "height": 364
        },
        "id": "ZFA3gszIcmkD",
        "outputId": "1a082159-cbce-40fe-ca19-ade78ddf5471"
      },
      "execution_count": null,
      "outputs": [
        {
          "output_type": "execute_result",
          "data": {
            "image/png": "[encoded data removed]",
            "text/plain": [
              "<IPython.core.display.Image object>"
            ]
          },
          "metadata": {},
          "execution_count": 58
        }
      ]
    },
    {
      "cell_type": "markdown",
      "source": [
        "# Task 2:\n",
        "Explore the Bayesian network by using the link given below:\n",
        "https://pgmpy.org/models/bayesiannetwork.html\n",
        "Complete the following tasks:\n",
        "1.\tCreate an empty DAG with no nodes and no edges.\n",
        "2.\tExplore and add add nodes and edges to the model using different techniques.\n",
        "3.\tExplore and use different parameters like add_cpds(*cpds). Use the information given below to add the joint distribution table.\n"
      ],
      "metadata": {
        "id": "8nqtskK-der0"
      }
    },
    {
      "cell_type": "code",
      "source": [
        "from pgmpy.models import DiscreteBayesianNetwork as bn"
      ],
      "metadata": {
        "id": "Thg31Yy5c83b"
      },
      "execution_count": null,
      "outputs": []
    },
    {
      "cell_type": "code",
      "source": [
        "model = bn()"
      ],
      "metadata": {
        "id": "BbONmYjCeS2q"
      },
      "execution_count": null,
      "outputs": []
    },
    {
      "cell_type": "code",
      "source": [
        "model.nodes()"
      ],
      "metadata": {
        "colab": {
          "base_uri": "https://localhost:8080/"
        },
        "id": "KUswp5eoeYci",
        "outputId": "e7a37bd4-8013-47f0-ae34-6336ae845d0f"
      },
      "execution_count": null,
      "outputs": [
        {
          "output_type": "execute_result",
          "data": {
            "text/plain": [
              "NodeView(())"
            ]
          },
          "metadata": {},
          "execution_count": 63
        }
      ]
    },
    {
      "cell_type": "code",
      "source": [
        "model.edges()"
      ],
      "metadata": {
        "colab": {
          "base_uri": "https://localhost:8080/"
        },
        "id": "QxQJ4vwaecfR",
        "outputId": "f990747f-e909-400b-edae-4fac223a4b60"
      },
      "execution_count": null,
      "outputs": [
        {
          "output_type": "execute_result",
          "data": {
            "text/plain": [
              "OutEdgeView([])"
            ]
          },
          "metadata": {},
          "execution_count": 62
        }
      ]
    },
    {
      "cell_type": "code",
      "source": [
        "model.add_nodes_from([\"R\",\"U\",\"S\",\"H\",\"E\", \"E\", \"L\"])"
      ],
      "metadata": {
        "id": "jE62f5ZleeTh"
      },
      "execution_count": null,
      "outputs": []
    },
    {
      "cell_type": "code",
      "source": [
        "model.add_edges_from([(\"R\",\"E\"),(\"U\",\"E\"),(\"S\",\"R\"),(\"H\",\"E\"),(\"H\",\"L\") ])"
      ],
      "metadata": {
        "id": "CGfL7AqDewIh"
      },
      "execution_count": null,
      "outputs": []
    },
    {
      "cell_type": "code",
      "source": [
        "model.nodes()"
      ],
      "metadata": {
        "colab": {
          "base_uri": "https://localhost:8080/"
        },
        "id": "zKXyvV_cffnI",
        "outputId": "dfd5c8a3-0ff5-4d4d-dd37-e5b67b5a7bf5"
      },
      "execution_count": null,
      "outputs": [
        {
          "output_type": "execute_result",
          "data": {
            "text/plain": [
              "NodeView(('R', 'U', 'S', 'H', 'E', 'L'))"
            ]
          },
          "metadata": {},
          "execution_count": 67
        }
      ]
    },
    {
      "cell_type": "code",
      "source": [
        "model.edges()"
      ],
      "metadata": {
        "colab": {
          "base_uri": "https://localhost:8080/"
        },
        "id": "BFiu4ErHfoeZ",
        "outputId": "7737a1f5-9e9c-454a-bbe0-b89a8ce06c96"
      },
      "execution_count": null,
      "outputs": [
        {
          "output_type": "execute_result",
          "data": {
            "text/plain": [
              "OutEdgeView([('R', 'E'), ('U', 'E'), ('S', 'R'), ('H', 'E'), ('H', 'L')])"
            ]
          },
          "metadata": {},
          "execution_count": 68
        }
      ]
    },
    {
      "cell_type": "code",
      "source": [
        "graph2 = model.to_graphviz()\n",
        "print(graph2)"
      ],
      "metadata": {
        "colab": {
          "base_uri": "https://localhost:8080/"
        },
        "id": "tg9wwwg8fp5I",
        "outputId": "6eec7ade-d8d8-444f-ed40-a6604269477c"
      },
      "execution_count": null,
      "outputs": [
        {
          "output_type": "stream",
          "name": "stdout",
          "text": [
            "strict digraph \"\" {\n",
            "\tR\t[weight=None];\n",
            "\tE\t[weight=None];\n",
            "\tR -> E\t[weight=None];\n",
            "\tU\t[weight=None];\n",
            "\tU -> E\t[weight=None];\n",
            "\tS\t[weight=None];\n",
            "\tS -> R\t[weight=None];\n",
            "\tH\t[weight=None];\n",
            "\tH -> E\t[weight=None];\n",
            "\tL\t[weight=None];\n",
            "\tH -> L\t[weight=None];\n",
            "}\n",
            "\n"
          ]
        }
      ]
    },
    {
      "cell_type": "code",
      "source": [
        "graph2.draw(\"graph2.png\", prog = \"dot\")\n",
        "Image(\"graph2.png\")"
      ],
      "metadata": {
        "colab": {
          "base_uri": "https://localhost:8080/",
          "height": 268
        },
        "id": "QtTP7fDHf7gY",
        "outputId": "35e3c8f9-e47c-481a-ae29-b76c89286c8c"
      },
      "execution_count": null,
      "outputs": [
        {
          "output_type": "execute_result",
          "data": {
            "image/png": "[encoded data removed]",
            "text/plain": [
              "<IPython.core.display.Image object>"
            ]
          },
          "metadata": {},
          "execution_count": 70
        }
      ]
    },
    {
      "cell_type": "markdown",
      "source": [
        "# Task 3:\n",
        "Build a Bayesian network for the joint cpd shown below.\n",
        "![image.png](data:image/png;base64,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)\n",
        "\n"
      ],
      "metadata": {
        "id": "qVxIPvcIgd8h"
      }
    },
    {
      "cell_type": "code",
      "source": [
        "from pgmpy.factors.discrete.CPD import TabularCPD"
      ],
      "metadata": {
        "id": "zi3lz-RwgTnI"
      },
      "execution_count": null,
      "outputs": []
    },
    {
      "cell_type": "code",
      "source": [
        "m2 = bn()"
      ],
      "metadata": {
        "id": "mwsw9lWGhzKm"
      },
      "execution_count": null,
      "outputs": []
    },
    {
      "cell_type": "code",
      "source": [
        "m2.add_nodes_from([\"F\",\"G\",\"H\",\"I\",\"J\"])"
      ],
      "metadata": {
        "id": "4cyVVpi5inb-"
      },
      "execution_count": null,
      "outputs": []
    },
    {
      "cell_type": "code",
      "source": [
        "m2.add_edges_from([(\"F\",\"G\"),(\"G\",\"H\"),(\"H\",\"I\"),(\"I\",\"J\")])"
      ],
      "metadata": {
        "id": "xqHZnrqVjtWt"
      },
      "execution_count": null,
      "outputs": []
    },
    {
      "cell_type": "code",
      "source": [
        "\n",
        "cpd_g = TabularCPD(variable='G',variable_card=3,\n",
        "                   values=[[0.3,0.5,0.9,0.5],\n",
        "                           [0.4,0.25,0.25,0.3],\n",
        "                           [0.3,0.7,0.7,0.2]],\n",
        "                           evidence=['H',\"F\"],\n",
        "                           evidence_card=[2,2])\n",
        "\n",
        "m2.add_cpds(cpd_g)\n",
        "for cpd in model.get_cpds():\n",
        "  if cpd.variable not in [\"I\",\"J\"]:\n",
        "      print(f\"{cpd.variable}:\")\n",
        "      print(cpd)\n",
        "m2.add_cpds(cpd_g)\n"
      ],
      "metadata": {
        "colab": {
          "base_uri": "https://localhost:8080/"
        },
        "id": "-4tURnOfjy6c",
        "outputId": "49aa5475-356d-40cd-dbf6-a724238adf22"
      },
      "execution_count": null,
      "outputs": [
        {
          "output_type": "stream",
          "name": "stderr",
          "text": [
            "WARNING:pgmpy:Replacing existing CPD for G\n",
            "WARNING:pgmpy:Replacing existing CPD for G\n"
          ]
        },
        {
          "output_type": "stream",
          "name": "stdout",
          "text": [
            "H:\n",
            "+------+-----+\n",
            "| H(0) | 0.6 |\n",
            "+------+-----+\n",
            "| H(1) | 0.4 |\n",
            "+------+-----+\n"
          ]
        }
      ]
    },
    {
      "cell_type": "code",
      "source": [],
      "metadata": {
        "id": "eMwdJXcOj6pc"
      },
      "execution_count": null,
      "outputs": []
    }
  ]
}
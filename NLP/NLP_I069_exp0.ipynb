{
  "nbformat": 4,
  "nbformat_minor": 0,
  "metadata": {
    "colab": {
      "provenance": []
    },
    "kernelspec": {
      "name": "python3",
      "display_name": "Python 3"
    },
    "language_info": {
      "name": "python"
    }
  },
  "cells": [
    {
      "cell_type": "code",
      "source": [
        "import re"
      ],
      "metadata": {
        "id": "_Wqg6hi14xjl"
      },
      "execution_count": null,
      "outputs": []
    },
    {
      "cell_type": "markdown",
      "source": [
        " Task To be Completed"
      ],
      "metadata": {
        "id": "a2pjnojR232a"
      }
    },
    {
      "cell_type": "markdown",
      "source": [
        "a.\tRead all the content present inside the file\n",
        "\n",
        "    i.\tRead only the first 5 characters of the file.\n",
        "    ii.\tRead the content of the file on a line by line basis.\n",
        "    iii.\tRead all the lines present inside the text file including the newline characters.\n",
        "    iv.\tReadaspecificlinefromaFile\n"
      ],
      "metadata": {
        "id": "49hS7Td93E3H"
      }
    },
    {
      "cell_type": "code",
      "source": [
        "#i.\n",
        "f = open(\"Biodata.txt\", \"r\")\n",
        "print(f.read(5))\n"
      ],
      "metadata": {
        "colab": {
          "base_uri": "https://localhost:8080/"
        },
        "id": "73VUjKVG4yET",
        "outputId": "ebaabfcf-36aa-4698-ff4c-0f3b8a74b77b"
      },
      "execution_count": null,
      "outputs": [
        {
          "output_type": "stream",
          "name": "stdout",
          "text": [
            "Resum\n"
          ]
        }
      ]
    },
    {
      "cell_type": "code",
      "source": [
        "#ii.\n",
        "f= open(\"Biodata.txt\", \"r\")\n",
        "for x in f:\n",
        "  print(x)\n"
      ],
      "metadata": {
        "colab": {
          "base_uri": "https://localhost:8080/"
        },
        "id": "HyXUFsz25Plb",
        "outputId": "96b955d5-14ea-495c-ac10-8ca53116ce1e"
      },
      "execution_count": null,
      "outputs": [
        {
          "output_type": "stream",
          "name": "stdout",
          "text": [
            "Resume\n",
            "\n",
            "Name: Abc\n",
            "\n",
            "Age: 25yrs\n",
            "\n",
            "Qualification: Masters\n",
            "\n",
            "Degree: Engineering\n"
          ]
        }
      ]
    },
    {
      "cell_type": "code",
      "source": [
        "#iii.\n",
        "with open('Biodata.txt', 'r') as file:\n",
        "    content = file.read()\n",
        "print(content)"
      ],
      "metadata": {
        "colab": {
          "base_uri": "https://localhost:8080/"
        },
        "id": "no96Svup5Zx7",
        "outputId": "16eed47b-b407-467d-ccad-e332b5f06bd3"
      },
      "execution_count": null,
      "outputs": [
        {
          "output_type": "stream",
          "name": "stdout",
          "text": [
            "Resume\n",
            "Name: Abc\n",
            "Age: 25yrs\n",
            "Qualification: Masters\n",
            "Degree: Engineering\n"
          ]
        }
      ]
    },
    {
      "cell_type": "code",
      "source": [
        "#iv.\n",
        "f = open(\"Biodata.txt\", \"r\")\n",
        "c=f.readlines()\n",
        "print(c[2])\n"
      ],
      "metadata": {
        "colab": {
          "base_uri": "https://localhost:8080/"
        },
        "id": "GGsgEjrW5x7E",
        "outputId": "5aa27781-0abf-4e30-d2c7-fabdd62ca94a"
      },
      "execution_count": null,
      "outputs": [
        {
          "output_type": "stream",
          "name": "stdout",
          "text": [
            "Age: 25yrs\n",
            "\n"
          ]
        }
      ]
    },
    {
      "cell_type": "markdown",
      "source": [
        "b.\tWrite content in a file\n",
        "\n",
        "    i.\tWrite the String ‘Hello World’ into the ‘test.txt’ file\n",
        "    ii.\tWrite  “Hello World” in first line and “Hello Python” in second line\n",
        "    ii.\tWrite list of fruits in .txt file\n"
      ],
      "metadata": {
        "id": "24Gs0cWK3anX"
      }
    },
    {
      "cell_type": "code",
      "source": [
        "#i.\n",
        "f = open(\"test.txt\", \"w\")\n",
        "f.write(\"Hello World\")\n",
        "f.close()"
      ],
      "metadata": {
        "id": "Wiqll9O_9p8L"
      },
      "execution_count": null,
      "outputs": []
    },
    {
      "cell_type": "code",
      "source": [
        "#ii.\n",
        "f = open(\"test.txt\", \"w\")\n",
        "f.write(\"Hello World\\n\")\n",
        "f.write(\"Hello Python\")\n",
        "f.close()"
      ],
      "metadata": {
        "id": "xHx_-Cu99vhL"
      },
      "execution_count": null,
      "outputs": []
    },
    {
      "cell_type": "code",
      "source": [
        "#iii.\n",
        "f = open(\"test.txt\", \"a\")\n",
        "fruits = [\"\\napple\\n\", \"banana\\n\", \"cherry\\n\"]\n",
        "f.writelines(fruits)\n",
        "f.close()"
      ],
      "metadata": {
        "id": "2GgRN2L99zvj"
      },
      "execution_count": null,
      "outputs": []
    },
    {
      "cell_type": "code",
      "source": [
        "f = open(\"test.txt\", \"r\")\n",
        "print(f.read())"
      ],
      "metadata": {
        "colab": {
          "base_uri": "https://localhost:8080/"
        },
        "id": "OZKbe0_I94yj",
        "outputId": "1039903e-aee0-4f38-fa52-b5dd195fe567"
      },
      "execution_count": null,
      "outputs": [
        {
          "output_type": "stream",
          "name": "stdout",
          "text": [
            "Hello World\n",
            "Hello Python\n",
            "apple\n",
            "banana\n",
            "cherry\n",
            "\n"
          ]
        }
      ]
    },
    {
      "cell_type": "markdown",
      "source": [
        "c.  Write a program to read resume  and its details"
      ],
      "metadata": {
        "id": "Tzj_ADVy3nqG"
      }
    },
    {
      "cell_type": "code",
      "source": [
        "f = open(\"Biodata.txt\", \"r\")\n",
        "print(f.read())"
      ],
      "metadata": {
        "colab": {
          "base_uri": "https://localhost:8080/"
        },
        "id": "qNRjiVR7-A8b",
        "outputId": "6f62d5f9-636a-4211-e11c-3329b130d156"
      },
      "execution_count": null,
      "outputs": [
        {
          "output_type": "stream",
          "name": "stdout",
          "text": [
            "Resume\n",
            "Name: Abc\n",
            "Age: 25yrs\n",
            "Qualification: Masters\n",
            "Degree: EngineeringHello World\n",
            "Hello WorldHello World\n",
            "\n",
            "Hello World\n",
            "Hello PythonHello World\n"
          ]
        }
      ]
    },
    {
      "cell_type": "markdown",
      "source": [
        "d.Search for a sequence that starts with \"he\", followed by two (any) characters, and an \"o\": Txt=”hello world”"
      ],
      "metadata": {
        "id": "fxU1x2RJ3rnH"
      }
    },
    {
      "cell_type": "code",
      "source": [
        "f= open(\"Biodata.txt\", \"r\")\n",
        "c=f.read()\n",
        "x = re.search(\"he..o\", c)\n",
        "print(x)"
      ],
      "metadata": {
        "colab": {
          "base_uri": "https://localhost:8080/"
        },
        "id": "CUmcDOX5-GgC",
        "outputId": "b6621440-b2dd-4b08-ec12-2d2ad57e1ef5"
      },
      "execution_count": null,
      "outputs": [
        {
          "output_type": "stream",
          "name": "stdout",
          "text": [
            "None\n"
          ]
        }
      ]
    },
    {
      "cell_type": "markdown",
      "source": [
        "e.\tFor txt = \"The rain in Spain\" , search the string to see if it   \n",
        "\n",
        "    i.\tstarts with \"The\"   \n",
        "    ii.\t ends with \"Spain\"\n",
        "    iii.\tstarts with \"The\"  and ends with \"Spain\"\n"
      ],
      "metadata": {
        "id": "lKIiGhYR3tpu"
      }
    },
    {
      "cell_type": "code",
      "source": [
        "#i.\n",
        "f= open(\"rain.txt\",\"w\")\n",
        "f.write(\"The rain in Spain\")\n",
        "f.close()\n",
        "f = open(\"rain.txt\", \"r\")\n",
        "c=f.read()\n",
        "x = re.findall(\"^The\", c)\n",
        "print(x)"
      ],
      "metadata": {
        "colab": {
          "base_uri": "https://localhost:8080/"
        },
        "id": "bYi4UfBk-ggN",
        "outputId": "5d173462-481d-4067-f8b3-898eb293fdb1"
      },
      "execution_count": null,
      "outputs": [
        {
          "output_type": "stream",
          "name": "stdout",
          "text": [
            "['The']\n"
          ]
        }
      ]
    },
    {
      "cell_type": "code",
      "source": [
        "#ii.\n",
        "f = open(\"rain.txt\", \"r\")\n",
        "c=f.read()\n",
        "x = re.findall(\"Spain$\", c)\n",
        "print(x)"
      ],
      "metadata": {
        "colab": {
          "base_uri": "https://localhost:8080/"
        },
        "id": "N0kflySX-ugG",
        "outputId": "ffe0ca70-9c33-4ff4-9f37-28012878136a"
      },
      "execution_count": null,
      "outputs": [
        {
          "output_type": "stream",
          "name": "stdout",
          "text": [
            "['Spain']\n"
          ]
        }
      ]
    },
    {
      "cell_type": "code",
      "source": [
        "#iii.\n",
        "f = open(\"rain.txt\", \"r\")\n",
        "c=f.read()\n",
        "x = re.findall(\"^The.*Spain$\", c)\n",
        "print(x)"
      ],
      "metadata": {
        "colab": {
          "base_uri": "https://localhost:8080/"
        },
        "id": "eVs-Ho7R_B95",
        "outputId": "1b6e67a1-41cd-4034-92d6-4da1e807ac99"
      },
      "execution_count": null,
      "outputs": [
        {
          "output_type": "stream",
          "name": "stdout",
          "text": [
            "['The rain in Spain']\n"
          ]
        }
      ]
    },
    {
      "cell_type": "markdown",
      "source": [
        "f.\tFind all lower/Upper case characters alphabetically between \"a\" and \"m\": txt = \"The rain in Spain"
      ],
      "metadata": {
        "id": "JzB1gd7J33AO"
      }
    },
    {
      "cell_type": "code",
      "source": [
        "f = open(\"rain.txt\", \"r\")\n",
        "c=f.read()\n",
        "x = re.findall(\"[a-mA-M]\", c)\n",
        "x.sort()\n",
        "print(x)"
      ],
      "metadata": {
        "colab": {
          "base_uri": "https://localhost:8080/"
        },
        "id": "lrqkkDGp_MB5",
        "outputId": "28a68764-f791-4dae-b82e-a7b1ed68e05e"
      },
      "execution_count": null,
      "outputs": [
        {
          "output_type": "stream",
          "name": "stdout",
          "text": [
            "['a', 'a', 'e', 'h', 'i', 'i', 'i']\n"
          ]
        }
      ]
    },
    {
      "cell_type": "markdown",
      "source": [
        "g.\tSearch for the first white-space character in the string: txt = \"The rain in Spain\""
      ],
      "metadata": {
        "id": "3onLrCLV36JP"
      }
    },
    {
      "cell_type": "code",
      "source": [
        "f = open(\"rain.txt\", \"r\")\n",
        "c=f.read()\n",
        "x = re.findall(\"\\s\", c)\n",
        "print(x)"
      ],
      "metadata": {
        "colab": {
          "base_uri": "https://localhost:8080/"
        },
        "id": "c2DW0PVB_Xbh",
        "outputId": "dde1ec06-9c8b-493a-8056-59a201a12a3f"
      },
      "execution_count": null,
      "outputs": [
        {
          "output_type": "stream",
          "name": "stdout",
          "text": [
            "[' ', ' ', ' ']\n"
          ]
        }
      ]
    },
    {
      "cell_type": "markdown",
      "source": [
        "h.\tReplace every white-space character with the number 9 in any given string"
      ],
      "metadata": {
        "id": "DIV3iv1638C2"
      }
    },
    {
      "cell_type": "code",
      "source": [
        "f = open(\"rain.txt\", \"r\")\n",
        "c=f.read()\n",
        "x = re.sub(\"\\s\", \"9\", c)\n",
        "print(x)"
      ],
      "metadata": {
        "colab": {
          "base_uri": "https://localhost:8080/"
        },
        "id": "ZUkebmS7_cUh",
        "outputId": "9dee9324-536d-4f6b-bf65-2b3270c7a7a5"
      },
      "execution_count": null,
      "outputs": [
        {
          "output_type": "stream",
          "name": "stdout",
          "text": [
            "The9rain9in9Spain\n"
          ]
        }
      ]
    },
    {
      "cell_type": "markdown",
      "source": [
        "i.\tCheck if an email ID is valid or not"
      ],
      "metadata": {
        "id": "y0m1zt2k3-UG"
      }
    },
    {
      "cell_type": "code",
      "source": [
        "f= open(\"email.txt\",\"w\")\n",
        "f.write(\"From: stephen.a.smith@espn.com, drake@hotmail.com, frenchMontana@gmail.com, notvalid&neal5.62\")\n",
        "f.close()\n",
        "\n",
        "f = open(\"email.txt\", \"r\")\n",
        "content = f.read()\n",
        "f.close()\n",
        "\n",
        "valid = re.findall(r'[a-zA-Z0-9. _%+-]+@[a-zA-Z0-9. -]+\\.[a-zA-Z]{2,}', content) #valid email format taken from geeksforgeeks.org\n",
        "\n",
        "if valid:\n",
        "    print(\"Valid email addresses found:\", valid)\n",
        "else:\n",
        "    print(\"No valid email addresses found.\")"
      ],
      "metadata": {
        "colab": {
          "base_uri": "https://localhost:8080/"
        },
        "id": "FRpPHpF_AuKY",
        "outputId": "5b1d0952-a026-4b27-e5ce-ad7a5e2eee69"
      },
      "execution_count": null,
      "outputs": [
        {
          "output_type": "stream",
          "name": "stdout",
          "text": [
            "Valid email addresses found: [' stephen.a.smith@espn.com', ' drake@hotmail.com', ' frenchMontana@gmail.com']\n"
          ]
        }
      ]
    },
    {
      "cell_type": "markdown",
      "source": [
        "![image.png](data:image/png;base64,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)"
      ],
      "metadata": {
        "id": "060SqyOOE81E"
      }
    },
    {
      "cell_type": "markdown",
      "source": [
        "Conclusion : Leaned to use regex for txt file manupilations."
      ],
      "metadata": {
        "id": "0dpNAfcoCdKW"
      }
    }
  ]
}
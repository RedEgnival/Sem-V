{
  "nbformat": 4,
  "nbformat_minor": 0,
  "metadata": {
    "colab": {
      "provenance": []
    },
    "kernelspec": {
      "name": "python3",
      "display_name": "Python 3"
    },
    "language_info": {
      "name": "python"
    }
  },
  "cells": [
    {
      "cell_type": "markdown",
      "source": [
        "# Rusheel Sharma\n",
        "# I069\n",
        "# B.Tech AI\n",
        "# NLP Lab 1"
      ],
      "metadata": {
        "id": "bHx1iAvY9mAJ"
      }
    },
    {
      "cell_type": "markdown",
      "source": [
        "Tokenization\n"
      ],
      "metadata": {
        "id": "A9RZjaRV-Kig"
      }
    },
    {
      "cell_type": "code",
      "execution_count": null,
      "metadata": {
        "id": "uqONbGAL9SGh"
      },
      "outputs": [],
      "source": [
        "import nltk\n",
        "from nltk import sent_tokenize, word_tokenize"
      ]
    },
    {
      "cell_type": "code",
      "source": [
        "nltk.download('punkt_tab')"
      ],
      "metadata": {
        "colab": {
          "base_uri": "https://localhost:8080/"
        },
        "id": "Lx37RwJy_M6W",
        "outputId": "6a21d9e0-4f83-43ef-fe8e-989ee0548bf9"
      },
      "execution_count": null,
      "outputs": [
        {
          "output_type": "stream",
          "name": "stderr",
          "text": [
            "[nltk_data] Downloading package punkt_tab to /root/nltk_data...\n",
            "[nltk_data]   Unzipping tokenizers/punkt_tab.zip.\n"
          ]
        },
        {
          "output_type": "execute_result",
          "data": {
            "text/plain": [
              "True"
            ]
          },
          "metadata": {},
          "execution_count": 4
        }
      ]
    },
    {
      "cell_type": "code",
      "source": [
        "para= \"\"\"India is the largest democratic country.\n",
        "It is a big country divided into 29 states and 7 union territories.These states and union territories have been created so that the government can run the country more easily. India also has many different kinds of physical features in different parts of the country\n",
        "that are spread over its states and union territories.India is a very diverse country as well, which means that the people around the country are different in many ways. Even though India is such a diverse place, it is united as one country.\"\"\"\n"
      ],
      "metadata": {
        "id": "yfTRb_I4-MgI"
      },
      "execution_count": null,
      "outputs": []
    },
    {
      "cell_type": "code",
      "source": [
        "#Sentence tokenize\n",
        "sentences= sent_tokenize(para)\n",
        "print(sentences)"
      ],
      "metadata": {
        "colab": {
          "base_uri": "https://localhost:8080/"
        },
        "id": "JsY9nDBC-_9-",
        "outputId": "192dd857-c938-4d72-9209-73045c48517e"
      },
      "execution_count": null,
      "outputs": [
        {
          "output_type": "stream",
          "name": "stdout",
          "text": [
            "['India is the largest democratic country.', 'It is a big country divided into 29 states and 7 union territories.These states and union territories have been created so that the government can run the country more easily.', 'India also has many different kinds of physical features in different parts of the country\\nthat are spread over its states and union territories.India is a very diverse country as well, which means that the people around the country are different in many ways.', 'Even though India is such a diverse place, it is united as one country.']\n"
          ]
        }
      ]
    },
    {
      "cell_type": "code",
      "source": [
        "#word Tokenize\n",
        "words= word_tokenize(sentences[0])\n",
        "print(words)"
      ],
      "metadata": {
        "colab": {
          "base_uri": "https://localhost:8080/"
        },
        "id": "C5MpY8sN_BLu",
        "outputId": "85ceec10-0971-4b36-a4ee-f47bade8608d"
      },
      "execution_count": null,
      "outputs": [
        {
          "output_type": "stream",
          "name": "stdout",
          "text": [
            "['India', 'is', 'the', 'largest', 'democratic', 'country', '.']\n"
          ]
        }
      ]
    },
    {
      "cell_type": "code",
      "source": [
        "#Using extend\n",
        "words_token=[]\n",
        "for sent in sentences:\n",
        "    words_token.extend(word_tokenize(sent))\n",
        "print(words_token)"
      ],
      "metadata": {
        "colab": {
          "base_uri": "https://localhost:8080/"
        },
        "id": "vj0JsotA_YBG",
        "outputId": "78d28211-9b93-499f-c36a-b4adde288b2c"
      },
      "execution_count": null,
      "outputs": [
        {
          "output_type": "stream",
          "name": "stdout",
          "text": [
            "['India', 'is', 'the', 'largest', 'democratic', 'country', '.', 'It', 'is', 'a', 'big', 'country', 'divided', 'into', '29', 'states', 'and', '7', 'union', 'territories.These', 'states', 'and', 'union', 'territories', 'have', 'been', 'created', 'so', 'that', 'the', 'government', 'can', 'run', 'the', 'country', 'more', 'easily', '.', 'India', 'also', 'has', 'many', 'different', 'kinds', 'of', 'physical', 'features', 'in', 'different', 'parts', 'of', 'the', 'country', 'that', 'are', 'spread', 'over', 'its', 'states', 'and', 'union', 'territories.India', 'is', 'a', 'very', 'diverse', 'country', 'as', 'well', ',', 'which', 'means', 'that', 'the', 'people', 'around', 'the', 'country', 'are', 'different', 'in', 'many', 'ways', '.', 'Even', 'though', 'India', 'is', 'such', 'a', 'diverse', 'place', ',', 'it', 'is', 'united', 'as', 'one', 'country', '.']\n"
          ]
        }
      ]
    },
    {
      "cell_type": "code",
      "source": [
        "#Useing append\n",
        "words_token=[]\n",
        "for sent in sentences:\n",
        "    words_token.append(word_tokenize(sent))\n",
        "print(words_token)"
      ],
      "metadata": {
        "colab": {
          "base_uri": "https://localhost:8080/"
        },
        "id": "5IEpZuDM_azm",
        "outputId": "ba910a15-df11-4a4d-fb73-59a3962df6cf"
      },
      "execution_count": null,
      "outputs": [
        {
          "output_type": "stream",
          "name": "stdout",
          "text": [
            "[['India', 'is', 'the', 'largest', 'democratic', 'country', '.'], ['It', 'is', 'a', 'big', 'country', 'divided', 'into', '29', 'states', 'and', '7', 'union', 'territories.These', 'states', 'and', 'union', 'territories', 'have', 'been', 'created', 'so', 'that', 'the', 'government', 'can', 'run', 'the', 'country', 'more', 'easily', '.'], ['India', 'also', 'has', 'many', 'different', 'kinds', 'of', 'physical', 'features', 'in', 'different', 'parts', 'of', 'the', 'country', 'that', 'are', 'spread', 'over', 'its', 'states', 'and', 'union', 'territories.India', 'is', 'a', 'very', 'diverse', 'country', 'as', 'well', ',', 'which', 'means', 'that', 'the', 'people', 'around', 'the', 'country', 'are', 'different', 'in', 'many', 'ways', '.'], ['Even', 'though', 'India', 'is', 'such', 'a', 'diverse', 'place', ',', 'it', 'is', 'united', 'as', 'one', 'country', '.']]\n"
          ]
        }
      ]
    },
    {
      "cell_type": "code",
      "source": [
        "print(word_tokenize(para))"
      ],
      "metadata": {
        "colab": {
          "base_uri": "https://localhost:8080/"
        },
        "id": "QZIw9TY1_cwO",
        "outputId": "adc24bb8-5ffd-464c-8e98-c8043cafbc3f"
      },
      "execution_count": null,
      "outputs": [
        {
          "output_type": "stream",
          "name": "stdout",
          "text": [
            "['India', 'is', 'the', 'largest', 'democratic', 'country', '.', 'It', 'is', 'a', 'big', 'country', 'divided', 'into', '29', 'states', 'and', '7', 'union', 'territories.These', 'states', 'and', 'union', 'territories', 'have', 'been', 'created', 'so', 'that', 'the', 'government', 'can', 'run', 'the', 'country', 'more', 'easily', '.', 'India', 'also', 'has', 'many', 'different', 'kinds', 'of', 'physical', 'features', 'in', 'different', 'parts', 'of', 'the', 'country', 'that', 'are', 'spread', 'over', 'its', 'states', 'and', 'union', 'territories.India', 'is', 'a', 'very', 'diverse', 'country', 'as', 'well', ',', 'which', 'means', 'that', 'the', 'people', 'around', 'the', 'country', 'are', 'different', 'in', 'many', 'ways', '.', 'Even', 'though', 'India', 'is', 'such', 'a', 'diverse', 'place', ',', 'it', 'is', 'united', 'as', 'one', 'country', '.']\n"
          ]
        }
      ]
    },
    {
      "cell_type": "markdown",
      "source": [
        "# Tokenization using SpaCy"
      ],
      "metadata": {
        "id": "cRlj6cO4_tZv"
      }
    },
    {
      "cell_type": "code",
      "source": [
        "import spacy"
      ],
      "metadata": {
        "id": "ROK6HNT__miu"
      },
      "execution_count": null,
      "outputs": []
    },
    {
      "cell_type": "code",
      "source": [
        "sp = spacy.load('en_core_web_sm')\n",
        "sentence = sp(para)\n",
        "print(sentence)"
      ],
      "metadata": {
        "colab": {
          "base_uri": "https://localhost:8080/"
        },
        "id": "HH_OMSbK_w0f",
        "outputId": "e61122ef-2f22-4883-e9af-015118452b72"
      },
      "execution_count": null,
      "outputs": [
        {
          "output_type": "stream",
          "name": "stdout",
          "text": [
            "India is the largest democratic country.\n",
            "It is a big country divided into 29 states and 7 union territories.These states and union territories have been created so that the government can run the country more easily. India also has many different kinds of physical features in different parts of the country\n",
            "that are spread over its states and union territories.India is a very diverse country as well, which means that the people around the country are different in many ways. Even though India is such a diverse place, it is united as one country.\n"
          ]
        }
      ]
    },
    {
      "cell_type": "code",
      "source": [
        "word_spacy_tokenize= []\n",
        "\n",
        "for word in sentence:\n",
        "   word_spacy_tokenize.append(word)\n",
        "word_spacy_tokenize"
      ],
      "metadata": {
        "colab": {
          "base_uri": "https://localhost:8080/"
        },
        "id": "bcgfa9AN_0s2",
        "outputId": "80ebff6d-df6f-4eaf-dbdd-3ce59fb806a7"
      },
      "execution_count": null,
      "outputs": [
        {
          "output_type": "execute_result",
          "data": {
            "text/plain": [
              "[India,\n",
              " is,\n",
              " the,\n",
              " largest,\n",
              " democratic,\n",
              " country,\n",
              " .,\n",
              " ,\n",
              " It,\n",
              " is,\n",
              " a,\n",
              " big,\n",
              " country,\n",
              " divided,\n",
              " into,\n",
              " 29,\n",
              " states,\n",
              " and,\n",
              " 7,\n",
              " union,\n",
              " territories,\n",
              " .,\n",
              " These,\n",
              " states,\n",
              " and,\n",
              " union,\n",
              " territories,\n",
              " have,\n",
              " been,\n",
              " created,\n",
              " so,\n",
              " that,\n",
              " the,\n",
              " government,\n",
              " can,\n",
              " run,\n",
              " the,\n",
              " country,\n",
              " more,\n",
              " easily,\n",
              " .,\n",
              " India,\n",
              " also,\n",
              " has,\n",
              " many,\n",
              " different,\n",
              " kinds,\n",
              " of,\n",
              " physical,\n",
              " features,\n",
              " in,\n",
              " different,\n",
              " parts,\n",
              " of,\n",
              " the,\n",
              " country,\n",
              " ,\n",
              " that,\n",
              " are,\n",
              " spread,\n",
              " over,\n",
              " its,\n",
              " states,\n",
              " and,\n",
              " union,\n",
              " territories,\n",
              " .,\n",
              " India,\n",
              " is,\n",
              " a,\n",
              " very,\n",
              " diverse,\n",
              " country,\n",
              " as,\n",
              " well,\n",
              " ,,\n",
              " which,\n",
              " means,\n",
              " that,\n",
              " the,\n",
              " people,\n",
              " around,\n",
              " the,\n",
              " country,\n",
              " are,\n",
              " different,\n",
              " in,\n",
              " many,\n",
              " ways,\n",
              " .,\n",
              " Even,\n",
              " though,\n",
              " India,\n",
              " is,\n",
              " such,\n",
              " a,\n",
              " diverse,\n",
              " place,\n",
              " ,,\n",
              " it,\n",
              " is,\n",
              " united,\n",
              " as,\n",
              " one,\n",
              " country,\n",
              " .]"
            ]
          },
          "metadata": {},
          "execution_count": 12
        }
      ]
    },
    {
      "cell_type": "markdown",
      "source": [
        "# Using Gensim to Tokenize"
      ],
      "metadata": {
        "id": "4p0HFM_5_5Q-"
      }
    },
    {
      "cell_type": "code",
      "source": [
        "!pip install gensim\n"
      ],
      "metadata": {
        "colab": {
          "base_uri": "https://localhost:8080/"
        },
        "id": "toxK6MofAFgu",
        "outputId": "de71e763-81db-4ed2-f9d3-113501184d5b"
      },
      "execution_count": null,
      "outputs": [
        {
          "output_type": "stream",
          "name": "stdout",
          "text": [
            "Requirement already satisfied: gensim in /usr/local/lib/python3.11/dist-packages (4.3.3)\n",
            "Requirement already satisfied: numpy<2.0,>=1.18.5 in /usr/local/lib/python3.11/dist-packages (from gensim) (1.26.4)\n",
            "Requirement already satisfied: scipy<1.14.0,>=1.7.0 in /usr/local/lib/python3.11/dist-packages (from gensim) (1.13.1)\n",
            "Requirement already satisfied: smart-open>=1.8.1 in /usr/local/lib/python3.11/dist-packages (from gensim) (7.3.0.post1)\n",
            "Requirement already satisfied: wrapt in /usr/local/lib/python3.11/dist-packages (from smart-open>=1.8.1->gensim) (1.17.2)\n"
          ]
        }
      ]
    },
    {
      "cell_type": "code",
      "source": [
        "from gensim.utils import tokenize"
      ],
      "metadata": {
        "id": "bfY43-CY_1Ee"
      },
      "execution_count": null,
      "outputs": []
    },
    {
      "cell_type": "code",
      "source": [
        "list(tokenize(para))"
      ],
      "metadata": {
        "colab": {
          "base_uri": "https://localhost:8080/"
        },
        "id": "zZF2wrGt_-re",
        "outputId": "68640ed3-b30d-4ea5-8d17-7479035e6272"
      },
      "execution_count": null,
      "outputs": [
        {
          "output_type": "execute_result",
          "data": {
            "text/plain": [
              "['India',\n",
              " 'is',\n",
              " 'the',\n",
              " 'largest',\n",
              " 'democratic',\n",
              " 'country',\n",
              " 'It',\n",
              " 'is',\n",
              " 'a',\n",
              " 'big',\n",
              " 'country',\n",
              " 'divided',\n",
              " 'into',\n",
              " 'states',\n",
              " 'and',\n",
              " 'union',\n",
              " 'territories',\n",
              " 'These',\n",
              " 'states',\n",
              " 'and',\n",
              " 'union',\n",
              " 'territories',\n",
              " 'have',\n",
              " 'been',\n",
              " 'created',\n",
              " 'so',\n",
              " 'that',\n",
              " 'the',\n",
              " 'government',\n",
              " 'can',\n",
              " 'run',\n",
              " 'the',\n",
              " 'country',\n",
              " 'more',\n",
              " 'easily',\n",
              " 'India',\n",
              " 'also',\n",
              " 'has',\n",
              " 'many',\n",
              " 'different',\n",
              " 'kinds',\n",
              " 'of',\n",
              " 'physical',\n",
              " 'features',\n",
              " 'in',\n",
              " 'different',\n",
              " 'parts',\n",
              " 'of',\n",
              " 'the',\n",
              " 'country',\n",
              " 'that',\n",
              " 'are',\n",
              " 'spread',\n",
              " 'over',\n",
              " 'its',\n",
              " 'states',\n",
              " 'and',\n",
              " 'union',\n",
              " 'territories',\n",
              " 'India',\n",
              " 'is',\n",
              " 'a',\n",
              " 'very',\n",
              " 'diverse',\n",
              " 'country',\n",
              " 'as',\n",
              " 'well',\n",
              " 'which',\n",
              " 'means',\n",
              " 'that',\n",
              " 'the',\n",
              " 'people',\n",
              " 'around',\n",
              " 'the',\n",
              " 'country',\n",
              " 'are',\n",
              " 'different',\n",
              " 'in',\n",
              " 'many',\n",
              " 'ways',\n",
              " 'Even',\n",
              " 'though',\n",
              " 'India',\n",
              " 'is',\n",
              " 'such',\n",
              " 'a',\n",
              " 'diverse',\n",
              " 'place',\n",
              " 'it',\n",
              " 'is',\n",
              " 'united',\n",
              " 'as',\n",
              " 'one',\n",
              " 'country']"
            ]
          },
          "metadata": {},
          "execution_count": 5
        }
      ]
    },
    {
      "cell_type": "code",
      "source": [
        "#Convert all words to lower case\n",
        "\n",
        "para_lower= para.lower()\n",
        "print(para_lower)"
      ],
      "metadata": {
        "colab": {
          "base_uri": "https://localhost:8080/"
        },
        "id": "nm__zQPcAW7f",
        "outputId": "7e68dbb2-195a-43d9-c465-7f9ffb5468ec"
      },
      "execution_count": null,
      "outputs": [
        {
          "output_type": "stream",
          "name": "stdout",
          "text": [
            "india is the largest democratic country.\n",
            "it is a big country divided into 29 states and 7 union territories.these states and union territories have been created so that the government can run the country more easily. india also has many different kinds of physical features in different parts of the country\n",
            "that are spread over its states and union territories.india is a very diverse country as well, which means that the people around the country are different in many ways. even though india is such a diverse place, it is united as one country.\n"
          ]
        }
      ]
    },
    {
      "cell_type": "code",
      "source": [
        "#Convert all words to upper case\n",
        "\n",
        "para_upper= para.upper()\n",
        "print(para_upper)"
      ],
      "metadata": {
        "colab": {
          "base_uri": "https://localhost:8080/"
        },
        "id": "GUJxFR4aAeje",
        "outputId": "4b91717e-8daf-40da-9bf8-e4c7b6e234fa"
      },
      "execution_count": null,
      "outputs": [
        {
          "output_type": "stream",
          "name": "stdout",
          "text": [
            "INDIA IS THE LARGEST DEMOCRATIC COUNTRY.\n",
            "IT IS A BIG COUNTRY DIVIDED INTO 29 STATES AND 7 UNION TERRITORIES.THESE STATES AND UNION TERRITORIES HAVE BEEN CREATED SO THAT THE GOVERNMENT CAN RUN THE COUNTRY MORE EASILY. INDIA ALSO HAS MANY DIFFERENT KINDS OF PHYSICAL FEATURES IN DIFFERENT PARTS OF THE COUNTRY\n",
            "THAT ARE SPREAD OVER ITS STATES AND UNION TERRITORIES.INDIA IS A VERY DIVERSE COUNTRY AS WELL, WHICH MEANS THAT THE PEOPLE AROUND THE COUNTRY ARE DIFFERENT IN MANY WAYS. EVEN THOUGH INDIA IS SUCH A DIVERSE PLACE, IT IS UNITED AS ONE COUNTRY.\n"
          ]
        }
      ]
    },
    {
      "cell_type": "code",
      "source": [
        "nltk.download(\"stopwords\")"
      ],
      "metadata": {
        "colab": {
          "base_uri": "https://localhost:8080/"
        },
        "id": "bU4gFvepAgoW",
        "outputId": "e36cd3d6-dc05-4518-b4e4-0646e82a06f5"
      },
      "execution_count": null,
      "outputs": [
        {
          "output_type": "stream",
          "name": "stderr",
          "text": [
            "[nltk_data] Downloading package stopwords to /root/nltk_data...\n",
            "[nltk_data]   Unzipping corpora/stopwords.zip.\n"
          ]
        },
        {
          "output_type": "execute_result",
          "data": {
            "text/plain": [
              "True"
            ]
          },
          "metadata": {},
          "execution_count": 9
        }
      ]
    },
    {
      "cell_type": "code",
      "source": [
        "from nltk.corpus import stopwords"
      ],
      "metadata": {
        "id": "LyRYsQcKAn1f"
      },
      "execution_count": null,
      "outputs": []
    },
    {
      "cell_type": "code",
      "source": [
        "stopWords = set(stopwords.words('english'))\n",
        "print(stopWords)"
      ],
      "metadata": {
        "colab": {
          "base_uri": "https://localhost:8080/"
        },
        "id": "vUOfQuNaAoQe",
        "outputId": "51856391-883f-4f9a-e2c9-2da1d0093a80"
      },
      "execution_count": null,
      "outputs": [
        {
          "output_type": "stream",
          "name": "stdout",
          "text": [
            "{'that', 'yourself', 'as', \"he'll\", \"you'd\", 'isn', 'll', \"wouldn't\", 'you', \"didn't\", 'have', 'our', 'into', 'couldn', 'for', 'a', 'out', \"you'll\", 'more', 'wasn', 'won', 'of', \"they'd\", 'they', 'shouldn', 'him', 'being', 'now', 'same', 'between', 'i', 'doing', 'themselves', 'up', 'did', 'himself', 'will', \"doesn't\", \"mustn't\", 'only', 'am', 'is', 't', 'hers', 'these', 'it', 'very', \"should've\", 'those', 'do', 'had', 'nor', 'myself', \"haven't\", 'aren', \"shouldn't\", 'own', 'm', 'didn', 're', 'no', 'there', 'then', 'so', 'most', \"shan't\", \"i'll\", 'theirs', \"isn't\", 'under', 'on', 'but', \"she's\", 'during', 'and', 'doesn', 'haven', 'whom', 'all', 'if', 'don', 'above', \"i'd\", 'or', 'he', 'both', 'other', 'the', 'too', \"couldn't\", 'with', 'its', \"they're\", 'her', 'an', 'has', 'ma', \"she'll\", 'ours', \"mightn't\", 'ourselves', 'through', \"we've\", 'what', 'wouldn', 'not', \"she'd\", 'weren', 'while', 'was', 'my', \"aren't\", 'ain', 'hasn', \"hasn't\", \"won't\", 'this', 'me', 'shan', 'their', 'by', 'who', 'does', \"it'll\", \"it's\", \"it'd\", \"needn't\", \"don't\", 'here', 'be', 'which', 'needn', \"he's\", 's', 'can', \"we're\", 'against', 'again', 'herself', 'at', 'just', 've', 'we', \"we'd\", 'after', 'below', 'yours', \"they've\", 'until', \"you're\", \"wasn't\", \"we'll\", \"that'll\", 'hadn', \"you've\", 'are', 'mightn', 'in', 'were', 'd', 'your', \"i've\", \"hadn't\", 'his', 'them', 'each', 'how', 'off', 'before', 'over', 'once', 'o', \"i'm\", \"weren't\", 'having', 'when', 'y', \"he'd\", 'where', 'than', 'any', 'why', 'should', 'such', 'from', 'been', 'few', 'to', 'some', 'mustn', 'further', 'yourselves', 'down', 'about', 'itself', 'she', \"they'll\", 'because'}\n"
          ]
        }
      ]
    },
    {
      "cell_type": "code",
      "source": [
        "word_filtered=[]\n",
        "para_lower_tokenize=word_tokenize(para_lower)\n",
        "\n",
        "for word in para_lower_tokenize:\n",
        "    if word not in stopWords:\n",
        "        word_filtered.append(word)\n",
        "print(word_filtered)"
      ],
      "metadata": {
        "colab": {
          "base_uri": "https://localhost:8080/"
        },
        "id": "jwi3GRoeAqs-",
        "outputId": "697a22f0-3df0-4635-9b12-b6a215d05317"
      },
      "execution_count": null,
      "outputs": [
        {
          "output_type": "stream",
          "name": "stdout",
          "text": [
            "['india', 'largest', 'democratic', 'country', '.', 'big', 'country', 'divided', '29', 'states', '7', 'union', 'territories.these', 'states', 'union', 'territories', 'created', 'government', 'run', 'country', 'easily', '.', 'india', 'also', 'many', 'different', 'kinds', 'physical', 'features', 'different', 'parts', 'country', 'spread', 'states', 'union', 'territories.india', 'diverse', 'country', 'well', ',', 'means', 'people', 'around', 'country', 'different', 'many', 'ways', '.', 'even', 'though', 'india', 'diverse', 'place', ',', 'united', 'one', 'country', '.']\n"
          ]
        }
      ]
    },
    {
      "cell_type": "code",
      "source": [
        "print(\"length before and after stop word removal is: {} and {} respectively\".format(len(para_lower_tokenize), len(word_filtered)))"
      ],
      "metadata": {
        "colab": {
          "base_uri": "https://localhost:8080/"
        },
        "id": "d952J8uXAwWO",
        "outputId": "380efd8f-b537-4bfd-ef2b-52b4c5d981c4"
      },
      "execution_count": null,
      "outputs": [
        {
          "output_type": "stream",
          "name": "stdout",
          "text": [
            "length before and after stop word removal is: 100 and 58 respectively\n"
          ]
        }
      ]
    },
    {
      "cell_type": "markdown",
      "source": [
        "# Stemming\n"
      ],
      "metadata": {
        "id": "pSoZUL6MA6RO"
      }
    },
    {
      "cell_type": "code",
      "source": [
        "from nltk.stem import PorterStemmer"
      ],
      "metadata": {
        "id": "4P-EPPDrA1KG"
      },
      "execution_count": null,
      "outputs": []
    },
    {
      "cell_type": "code",
      "source": [
        "words= [\"wait\", \"waiting\", \"waited\", \"waits\", \"listening\", \"history\", \"abitlity\", \"arrival\", \"finally\", \"congratulations\", \\\n",
        "       \"exaggeration\", \"understandable\", \"probability\", \"player\",\"toys\", \"consumer\", \"fairly\"]\n",
        "porter =PorterStemmer()\n",
        "for word in words:\n",
        "    rootWord=porter.stem(word)\n",
        "    print(word,\" : \",rootWord)"
      ],
      "metadata": {
        "colab": {
          "base_uri": "https://localhost:8080/"
        },
        "id": "meccKtkSA_u1",
        "outputId": "afc5c90d-2d5d-4ea1-a74b-209678f335e7"
      },
      "execution_count": null,
      "outputs": [
        {
          "output_type": "stream",
          "name": "stdout",
          "text": [
            "wait  :  wait\n",
            "waiting  :  wait\n",
            "waited  :  wait\n",
            "waits  :  wait\n",
            "listening  :  listen\n",
            "history  :  histori\n",
            "abitlity  :  abitl\n",
            "arrival  :  arriv\n",
            "finally  :  final\n",
            "congratulations  :  congratul\n",
            "exaggeration  :  exagger\n",
            "understandable  :  understand\n",
            "probability  :  probabl\n",
            "player  :  player\n",
            "toys  :  toy\n",
            "consumer  :  consum\n",
            "fairly  :  fairli\n"
          ]
        }
      ]
    },
    {
      "cell_type": "code",
      "source": [
        "from nltk.stem import LancasterStemmer"
      ],
      "metadata": {
        "id": "Z6wS6nCGBBpO"
      },
      "execution_count": null,
      "outputs": []
    },
    {
      "cell_type": "code",
      "source": [
        "lancaster =LancasterStemmer()\n",
        "for word in words:\n",
        "    rootWord=lancaster.stem(word)\n",
        "    print(word,\" : \",rootWord)"
      ],
      "metadata": {
        "colab": {
          "base_uri": "https://localhost:8080/"
        },
        "id": "iBQ9P0OkBD9W",
        "outputId": "7fa65049-0603-4225-e0f4-2f2f4960ad85"
      },
      "execution_count": null,
      "outputs": [
        {
          "output_type": "stream",
          "name": "stdout",
          "text": [
            "wait  :  wait\n",
            "waiting  :  wait\n",
            "waited  :  wait\n",
            "waits  :  wait\n",
            "listening  :  list\n",
            "history  :  hist\n",
            "abitlity  :  abitl\n",
            "arrival  :  ar\n",
            "finally  :  fin\n",
            "congratulations  :  congrat\n",
            "exaggeration  :  exag\n",
            "understandable  :  understand\n",
            "probability  :  prob\n",
            "player  :  play\n",
            "toys  :  toy\n",
            "consumer  :  consum\n",
            "fairly  :  fair\n"
          ]
        }
      ]
    },
    {
      "cell_type": "code",
      "source": [
        "from nltk.stem import RegexpStemmer"
      ],
      "metadata": {
        "id": "glqXPLt2BLXu"
      },
      "execution_count": null,
      "outputs": []
    },
    {
      "cell_type": "code",
      "source": [
        "regex =RegexpStemmer(\"ing$|es$|s$|er$|able$\")\n",
        "\n",
        "for word in words:\n",
        "    rootWord=regex.stem(word)\n",
        "    print(word,\" : \",rootWord)"
      ],
      "metadata": {
        "colab": {
          "base_uri": "https://localhost:8080/"
        },
        "id": "SLUSlCgPBkX9",
        "outputId": "4b4da532-7304-4b88-e0d6-00b9d7e063cd"
      },
      "execution_count": null,
      "outputs": [
        {
          "output_type": "stream",
          "name": "stdout",
          "text": [
            "wait  :  wait\n",
            "waiting  :  wait\n",
            "waited  :  waited\n",
            "waits  :  wait\n",
            "listening  :  listen\n",
            "history  :  history\n",
            "abitlity  :  abitlity\n",
            "arrival  :  arrival\n",
            "finally  :  finally\n",
            "congratulations  :  congratulation\n",
            "exaggeration  :  exaggeration\n",
            "understandable  :  understand\n",
            "probability  :  probability\n",
            "player  :  play\n",
            "toys  :  toy\n",
            "consumer  :  consum\n",
            "fairly  :  fairly\n"
          ]
        }
      ]
    },
    {
      "cell_type": "code",
      "source": [
        "\n",
        "from nltk.stem import SnowballStemmer"
      ],
      "metadata": {
        "id": "akZCJPO4BmQ1"
      },
      "execution_count": null,
      "outputs": []
    },
    {
      "cell_type": "code",
      "source": [
        "snow =SnowballStemmer(language=\"english\")\n",
        "\n",
        "for word in words:\n",
        "    rootWord=snow.stem(word)\n",
        "    print(word,\" : \",rootWord)"
      ],
      "metadata": {
        "colab": {
          "base_uri": "https://localhost:8080/"
        },
        "id": "rzOqwqW6BoV9",
        "outputId": "dc86bf59-0169-495c-8d30-da802d5a8ed6"
      },
      "execution_count": null,
      "outputs": [
        {
          "output_type": "stream",
          "name": "stdout",
          "text": [
            "wait  :  wait\n",
            "waiting  :  wait\n",
            "waited  :  wait\n",
            "waits  :  wait\n",
            "listening  :  listen\n",
            "history  :  histori\n",
            "abitlity  :  abitl\n",
            "arrival  :  arriv\n",
            "finally  :  final\n",
            "congratulations  :  congratul\n",
            "exaggeration  :  exagger\n",
            "understandable  :  understand\n",
            "probability  :  probabl\n",
            "player  :  player\n",
            "toys  :  toy\n",
            "consumer  :  consum\n",
            "fairly  :  fair\n"
          ]
        }
      ]
    },
    {
      "cell_type": "markdown",
      "source": [
        "# Lemmatization"
      ],
      "metadata": {
        "id": "Sd-bxmBnBtMm"
      }
    },
    {
      "cell_type": "code",
      "source": [
        "import nltk\n",
        "nltk.download('wordnet')\n",
        "from nltk.stem import WordNetLemmatizer\n",
        "from nltk import sent_tokenize, word_tokenize\n",
        "from nltk.corpus import wordnet\n",
        "nltk.download('averaged_perceptron_tagger')"
      ],
      "metadata": {
        "colab": {
          "base_uri": "https://localhost:8080/"
        },
        "id": "1nSQET43Bqx9",
        "outputId": "ed2b8017-2a78-4a1d-a2e1-9bc358266e54"
      },
      "execution_count": null,
      "outputs": [
        {
          "output_type": "stream",
          "name": "stderr",
          "text": [
            "[nltk_data] Downloading package wordnet to /root/nltk_data...\n",
            "[nltk_data] Downloading package averaged_perceptron_tagger to\n",
            "[nltk_data]     /root/nltk_data...\n",
            "[nltk_data]   Unzipping taggers/averaged_perceptron_tagger.zip.\n"
          ]
        },
        {
          "output_type": "execute_result",
          "data": {
            "text/plain": [
              "True"
            ]
          },
          "metadata": {},
          "execution_count": 22
        }
      ]
    },
    {
      "cell_type": "code",
      "source": [
        "#Using nltk WordNet Lemmatizer\n",
        "\n",
        "lemmatizer= WordNetLemmatizer()\n",
        "words= [\"wait\", \"waiting\", \"waited\", \"waits\", \"listening\", \"history\", \"abitlity\", \"arrival\", \"finally\", \"congratulations\", \\\n",
        "       \"exaggeration\", \"understandable\", \"probability\", \"player\",\"toys\", \"consumer\", \"fairly\"]\n",
        "for word in words:\n",
        "    print(\"{}: {}\".format(word, lemmatizer.lemmatize(word)))"
      ],
      "metadata": {
        "colab": {
          "base_uri": "https://localhost:8080/"
        },
        "id": "lMlkHCrmBxFl",
        "outputId": "a029935b-8fc2-4794-fbde-15e209e6fe90"
      },
      "execution_count": null,
      "outputs": [
        {
          "output_type": "stream",
          "name": "stdout",
          "text": [
            "wait: wait\n",
            "waiting: waiting\n",
            "waited: waited\n",
            "waits: wait\n",
            "listening: listening\n",
            "history: history\n",
            "abitlity: abitlity\n",
            "arrival: arrival\n",
            "finally: finally\n",
            "congratulations: congratulation\n",
            "exaggeration: exaggeration\n",
            "understandable: understandable\n",
            "probability: probability\n",
            "player: player\n",
            "toys: toy\n",
            "consumer: consumer\n",
            "fairly: fairly\n"
          ]
        }
      ]
    },
    {
      "cell_type": "code",
      "source": [
        "sentence=\"The students are waiting outside the class room\"\n",
        "#Tokenizing the sentence\n",
        "word_tokens= word_tokenize(sentence)\n",
        "print(word_tokens)"
      ],
      "metadata": {
        "colab": {
          "base_uri": "https://localhost:8080/"
        },
        "id": "teytr3VdBzQ9",
        "outputId": "2c59dd43-97a5-48a3-f644-2d9ff5b3b70f"
      },
      "execution_count": null,
      "outputs": [
        {
          "output_type": "stream",
          "name": "stdout",
          "text": [
            "['The', 'students', 'are', 'waiting', 'outside', 'the', 'class', 'room']\n"
          ]
        }
      ]
    },
    {
      "cell_type": "code",
      "source": [
        "#Lemmatizing the tokens\n",
        "lemmatized=[]\n",
        "for token in word_tokens:\n",
        "    lemmatized.append(lemmatizer.lemmatize(token))\n",
        "print(lemmatized)"
      ],
      "metadata": {
        "colab": {
          "base_uri": "https://localhost:8080/"
        },
        "id": "ChzFf3nCB191",
        "outputId": "7ac2d193-456f-4f56-b950-2d543aa6efb2"
      },
      "execution_count": null,
      "outputs": [
        {
          "output_type": "stream",
          "name": "stdout",
          "text": [
            "['The', 'student', 'are', 'waiting', 'outside', 'the', 'class', 'room']\n"
          ]
        }
      ]
    },
    {
      "cell_type": "code",
      "source": [
        "#Joining the lemmatized words\n",
        "lemmatized_sent= \" \".join(lemmatized)\n",
        "print(lemmatized_sent)"
      ],
      "metadata": {
        "colab": {
          "base_uri": "https://localhost:8080/"
        },
        "id": "6MDmn3dXB4Pd",
        "outputId": "5069221f-2ca7-4ebe-bcca-5f36d8cf0e42"
      },
      "execution_count": null,
      "outputs": [
        {
          "output_type": "stream",
          "name": "stdout",
          "text": [
            "The student are waiting outside the class room\n"
          ]
        }
      ]
    },
    {
      "cell_type": "code",
      "source": [
        "#using POS tag\n",
        "print(lemmatizer.lemmatize(\"waiting\", 'v'))\n",
        "print(lemmatizer.lemmatize(\"are\", 'v'))"
      ],
      "metadata": {
        "colab": {
          "base_uri": "https://localhost:8080/"
        },
        "id": "09AlJaF8B6Qd",
        "outputId": "d41b4eb4-220e-49e9-df8f-04a75c98b906"
      },
      "execution_count": null,
      "outputs": [
        {
          "output_type": "stream",
          "name": "stdout",
          "text": [
            "wait\n",
            "be\n"
          ]
        }
      ]
    },
    {
      "cell_type": "code",
      "source": [
        "nltk.download('averaged_perceptron_tagger')"
      ],
      "metadata": {
        "colab": {
          "base_uri": "https://localhost:8080/"
        },
        "id": "LB4dBUDJCFie",
        "outputId": "b53c714e-f77c-4164-8c14-d787f22f07f5"
      },
      "execution_count": null,
      "outputs": [
        {
          "output_type": "stream",
          "name": "stderr",
          "text": [
            "[nltk_data] Downloading package averaged_perceptron_tagger to\n",
            "[nltk_data]     /root/nltk_data...\n",
            "[nltk_data]   Package averaged_perceptron_tagger is already up-to-\n",
            "[nltk_data]       date!\n"
          ]
        },
        {
          "output_type": "execute_result",
          "data": {
            "text/plain": [
              "True"
            ]
          },
          "metadata": {},
          "execution_count": 29
        }
      ]
    },
    {
      "cell_type": "code",
      "source": [
        "nltk.download('averaged_perceptron_tagger_eng')\n"
      ],
      "metadata": {
        "colab": {
          "base_uri": "https://localhost:8080/"
        },
        "id": "LnpTH62gCLpl",
        "outputId": "6a57fd4e-3f37-48f8-8d34-d7c7e5bd63e7"
      },
      "execution_count": null,
      "outputs": [
        {
          "output_type": "stream",
          "name": "stderr",
          "text": [
            "[nltk_data] Downloading package averaged_perceptron_tagger_eng to\n",
            "[nltk_data]     /root/nltk_data...\n",
            "[nltk_data]   Unzipping taggers/averaged_perceptron_tagger_eng.zip.\n"
          ]
        },
        {
          "output_type": "execute_result",
          "data": {
            "text/plain": [
              "True"
            ]
          },
          "metadata": {},
          "execution_count": 31
        }
      ]
    },
    {
      "cell_type": "code",
      "source": [
        "#Using nltk.pos_tag() method to tag words in large corpus\n",
        "\n",
        "print(nltk.pos_tag([\"waiting\"]))"
      ],
      "metadata": {
        "colab": {
          "base_uri": "https://localhost:8080/"
        },
        "id": "0jC9HJrkB8CV",
        "outputId": "20cc84f6-84e2-4005-f920-4fbdea7deb7e"
      },
      "execution_count": null,
      "outputs": [
        {
          "output_type": "stream",
          "name": "stdout",
          "text": [
            "[('waiting', 'VBG')]\n"
          ]
        }
      ]
    },
    {
      "cell_type": "code",
      "source": [
        "sentence=\"The students are waiting outside the class room\"\n",
        "word_tokens= word_tokenize(sentence)\n",
        "print(nltk.pos_tag(word_tokens))"
      ],
      "metadata": {
        "colab": {
          "base_uri": "https://localhost:8080/"
        },
        "id": "Q01W60lTB980",
        "outputId": "6783b1a8-f731-4dfe-c0b1-9fe15cb457a4"
      },
      "execution_count": null,
      "outputs": [
        {
          "output_type": "stream",
          "name": "stdout",
          "text": [
            "[('The', 'DT'), ('students', 'NNS'), ('are', 'VBP'), ('waiting', 'VBG'), ('outside', 'IN'), ('the', 'DT'), ('class', 'NN'), ('room', 'NN')]\n"
          ]
        }
      ]
    },
    {
      "cell_type": "code",
      "source": [
        "print(lemmatizer.lemmatize(\"are\", get_wordnet_pos(\"are\")))"
      ],
      "metadata": {
        "colab": {
          "base_uri": "https://localhost:8080/",
          "height": 148
        },
        "id": "3okji7DMCOud",
        "outputId": "80a672f2-7161-45db-f52f-4298a5f8b957"
      },
      "execution_count": null,
      "outputs": [
        {
          "output_type": "error",
          "ename": "NameError",
          "evalue": "name 'get_wordnet_pos' is not defined",
          "traceback": [
            "\u001b[0;31m---------------------------------------------------------------------------\u001b[0m",
            "\u001b[0;31mNameError\u001b[0m                                 Traceback (most recent call last)",
            "\u001b[0;32m/tmp/ipython-input-37-961384591.py\u001b[0m in \u001b[0;36m<cell line: 0>\u001b[0;34m()\u001b[0m\n\u001b[0;32m----> 1\u001b[0;31m \u001b[0mprint\u001b[0m\u001b[0;34m(\u001b[0m\u001b[0mlemmatizer\u001b[0m\u001b[0;34m.\u001b[0m\u001b[0mlemmatize\u001b[0m\u001b[0;34m(\u001b[0m\u001b[0;34m\"are\"\u001b[0m\u001b[0;34m,\u001b[0m \u001b[0mget_wordnet_pos\u001b[0m\u001b[0;34m(\u001b[0m\u001b[0;34m\"are\"\u001b[0m\u001b[0;34m)\u001b[0m\u001b[0;34m)\u001b[0m\u001b[0;34m)\u001b[0m\u001b[0;34m\u001b[0m\u001b[0;34m\u001b[0m\u001b[0m\n\u001b[0m",
            "\u001b[0;31mNameError\u001b[0m: name 'get_wordnet_pos' is not defined"
          ]
        }
      ]
    },
    {
      "cell_type": "code",
      "source": [
        "nltk.pos_tag([\"waiting\"])[0][1][0]"
      ],
      "metadata": {
        "colab": {
          "base_uri": "https://localhost:8080/",
          "height": 36
        },
        "id": "iX9bPBwYCQul",
        "outputId": "307978fa-0c9e-4e4f-a49c-d80127ad0278"
      },
      "execution_count": null,
      "outputs": [
        {
          "output_type": "execute_result",
          "data": {
            "text/plain": [
              "'V'"
            ],
            "application/vnd.google.colaboratory.intrinsic+json": {
              "type": "string"
            }
          },
          "metadata": {},
          "execution_count": 35
        }
      ]
    },
    {
      "cell_type": "code",
      "source": [
        "def pos_tagger(word):\n",
        "    nltk_tag = nltk.pos_tag([word])[0][1][0]\n",
        "    if nltk_tag.startswith('J'):\n",
        "        return wordnet.ADJ\n",
        "    elif nltk_tag.startswith('V'):\n",
        "        return wordnet.VERB\n",
        "    elif nltk_tag.startswith('N'):\n",
        "        return wordnet.NOUN\n",
        "    elif nltk_tag.startswith('R'):\n",
        "        return wordnet.ADV\n",
        "    else:\n",
        "        return None"
      ],
      "metadata": {
        "id": "7Bc3klgZCiPl"
      },
      "execution_count": null,
      "outputs": []
    },
    {
      "cell_type": "code",
      "source": [
        "wordnet.ADJ"
      ],
      "metadata": {
        "colab": {
          "base_uri": "https://localhost:8080/",
          "height": 36
        },
        "id": "-ibqla4bCk3N",
        "outputId": "d602490a-ae6b-4c5f-f42d-3d7b1ec9a3f5"
      },
      "execution_count": null,
      "outputs": [
        {
          "output_type": "execute_result",
          "data": {
            "text/plain": [
              "'a'"
            ],
            "application/vnd.google.colaboratory.intrinsic+json": {
              "type": "string"
            }
          },
          "metadata": {},
          "execution_count": 38
        }
      ]
    },
    {
      "cell_type": "code",
      "source": [
        "pos_tagger(\"are\")"
      ],
      "metadata": {
        "colab": {
          "base_uri": "https://localhost:8080/",
          "height": 36
        },
        "id": "LjP9zlrcCoNt",
        "outputId": "b2573f6e-d282-4c04-861e-275cc38735d9"
      },
      "execution_count": null,
      "outputs": [
        {
          "output_type": "execute_result",
          "data": {
            "text/plain": [
              "'v'"
            ],
            "application/vnd.google.colaboratory.intrinsic+json": {
              "type": "string"
            }
          },
          "metadata": {},
          "execution_count": 39
        }
      ]
    },
    {
      "cell_type": "code",
      "source": [
        "\n",
        "print(lemmatizer.lemmatize(\"waiting\",pos_tagger(\"waiting\")))"
      ],
      "metadata": {
        "colab": {
          "base_uri": "https://localhost:8080/"
        },
        "id": "Z6nmaiBPCpt8",
        "outputId": "e9f08507-6027-4b2c-ebc7-3f4b61e5a4cc"
      },
      "execution_count": null,
      "outputs": [
        {
          "output_type": "stream",
          "name": "stdout",
          "text": [
            "wait\n"
          ]
        }
      ]
    },
    {
      "cell_type": "code",
      "source": [
        "sentence=\"The students are waiting outside the class room eagerly\"\n",
        "word_tokens= word_tokenize(sentence)\n",
        "lemmatized=[]\n",
        "for token in word_tokens:\n",
        "    tag= pos_tagger(token)\n",
        "    if tag==None:\n",
        "        lemmatized.append(lemmatizer.lemmatize(token))\n",
        "    else:\n",
        "        lemmatized.append(lemmatizer.lemmatize(token,tag))\n",
        "\n",
        "\n",
        "print(lemmatized)"
      ],
      "metadata": {
        "colab": {
          "base_uri": "https://localhost:8080/"
        },
        "id": "rnIWnZTACrO0",
        "outputId": "f0af0ee4-b28e-4dee-a7bc-220451eb7f73"
      },
      "execution_count": null,
      "outputs": [
        {
          "output_type": "stream",
          "name": "stdout",
          "text": [
            "['The', 'student', 'be', 'wait', 'outside', 'the', 'class', 'room', 'eagerly']\n"
          ]
        }
      ]
    },
    {
      "cell_type": "code",
      "source": [
        "\n",
        "nltk.pos_tag([\"eagerly\"])"
      ],
      "metadata": {
        "colab": {
          "base_uri": "https://localhost:8080/"
        },
        "id": "fU15kQHJCuu0",
        "outputId": "6b557fd9-8032-49fe-99a4-b8d8a1de100d"
      },
      "execution_count": null,
      "outputs": [
        {
          "output_type": "execute_result",
          "data": {
            "text/plain": [
              "[('eagerly', 'RB')]"
            ]
          },
          "metadata": {},
          "execution_count": 42
        }
      ]
    },
    {
      "cell_type": "code",
      "source": [
        "pos_tagger(\"eagerly\")"
      ],
      "metadata": {
        "colab": {
          "base_uri": "https://localhost:8080/",
          "height": 36
        },
        "id": "Ha5iMlqvCwob",
        "outputId": "83940063-ab67-47d3-e869-01bd40cc7511"
      },
      "execution_count": null,
      "outputs": [
        {
          "output_type": "execute_result",
          "data": {
            "text/plain": [
              "'r'"
            ],
            "application/vnd.google.colaboratory.intrinsic+json": {
              "type": "string"
            }
          },
          "metadata": {},
          "execution_count": 43
        }
      ]
    },
    {
      "cell_type": "code",
      "source": [
        "lemmatizer.lemmatize(\"nicely\",\"r\")"
      ],
      "metadata": {
        "colab": {
          "base_uri": "https://localhost:8080/",
          "height": 36
        },
        "id": "Dp4eCMFACyQN",
        "outputId": "0d26753e-6bf0-4ec8-af1b-5e5a2c33e760"
      },
      "execution_count": null,
      "outputs": [
        {
          "output_type": "execute_result",
          "data": {
            "text/plain": [
              "'nicely'"
            ],
            "application/vnd.google.colaboratory.intrinsic+json": {
              "type": "string"
            }
          },
          "metadata": {},
          "execution_count": 44
        }
      ]
    },
    {
      "cell_type": "code",
      "source": [
        "from nltk.corpus import wordnet as wn\n",
        "wn.synset('angrily.r.1').lemmas()[0].pertainyms()[0].name()"
      ],
      "metadata": {
        "colab": {
          "base_uri": "https://localhost:8080/",
          "height": 36
        },
        "id": "OaN_z9foCzyQ",
        "outputId": "c9faf9d3-7f17-4c0e-d867-dddae9c77bc2"
      },
      "execution_count": null,
      "outputs": [
        {
          "output_type": "execute_result",
          "data": {
            "text/plain": [
              "'angry'"
            ],
            "application/vnd.google.colaboratory.intrinsic+json": {
              "type": "string"
            }
          },
          "metadata": {},
          "execution_count": 45
        }
      ]
    },
    {
      "cell_type": "code",
      "source": [
        "wn.synset('eagerly.r.1').lemmas()[0].pertainyms()[0].name()"
      ],
      "metadata": {
        "colab": {
          "base_uri": "https://localhost:8080/",
          "height": 36
        },
        "id": "U0FQLPfaC1st",
        "outputId": "00b87f19-0742-411f-88c3-e0211d4046bd"
      },
      "execution_count": null,
      "outputs": [
        {
          "output_type": "execute_result",
          "data": {
            "text/plain": [
              "'eager'"
            ],
            "application/vnd.google.colaboratory.intrinsic+json": {
              "type": "string"
            }
          },
          "metadata": {},
          "execution_count": 46
        }
      ]
    },
    {
      "cell_type": "code",
      "source": [
        "sentence=\"The students are waiting outside the class room eagerly\"\n",
        "word_tokens= word_tokenize(sentence)\n",
        "lemmatized=[]\n",
        "for token in word_tokens:\n",
        "    tag= pos_tagger(token)\n",
        "    if tag==None:\n",
        "        lemmatized.append(lemmatizer.lemmatize(token))\n",
        "    elif tag==\"r\":\n",
        "        lemmatized.append(wn.synset('{}.r.1'.format(token)).lemmas()[0].pertainyms()[0].name())\n",
        "\n",
        "    else:\n",
        "        lemmatized.append(lemmatizer.lemmatize(token,tag))\n",
        "\n",
        "\n",
        "print(lemmatized)"
      ],
      "metadata": {
        "colab": {
          "base_uri": "https://localhost:8080/"
        },
        "id": "S83GhGJ6C3f8",
        "outputId": "6be14f9c-ffa3-491d-c6d8-e90fd38a8d67"
      },
      "execution_count": null,
      "outputs": [
        {
          "output_type": "stream",
          "name": "stdout",
          "text": [
            "['The', 'student', 'be', 'wait', 'outside', 'the', 'class', 'room', 'eager']\n"
          ]
        }
      ]
    }
  ]
}
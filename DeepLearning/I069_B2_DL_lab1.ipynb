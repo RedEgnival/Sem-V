{
  "nbformat": 4,
  "nbformat_minor": 0,
  "metadata": {
    "colab": {
      "provenance": []
    },
    "kernelspec": {
      "name": "python3",
      "display_name": "Python 3"
    },
    "language_info": {
      "name": "python"
    }
  },
  "cells": [
    {
      "cell_type": "markdown",
      "source": [
        "#Rusheel Sharma\n",
        "#I069\n",
        "#BTech AI Sem V\n",
        "#DL Lab 1"
      ],
      "metadata": {
        "id": "GURaFRRe-u6W"
      }
    },
    {
      "cell_type": "code",
      "execution_count": null,
      "metadata": {
        "id": "oKQfmQ6Ruse_"
      },
      "outputs": [],
      "source": [
        "import numpy as np\n",
        "import tensorflow as tf"
      ]
    },
    {
      "cell_type": "markdown",
      "source": [
        "#Task 1"
      ],
      "metadata": {
        "id": "lPKHuz_QxdyL"
      }
    },
    {
      "cell_type": "markdown",
      "source": [
        "Exploring Tensorflow playground\n",
        "1.\tOpen Tensorflow playground.\n",
        "2.\tKnow the different features.\n",
        "3.\tUse different number, types of inputs and observe the output.\n",
        "4.\tSummarize your observations and inferences.\n"
      ],
      "metadata": {
        "id": "oFWG-62C0S0U"
      }
    },
    {
      "cell_type": "code",
      "source": [
        "tf.__version__"
      ],
      "metadata": {
        "colab": {
          "base_uri": "https://localhost:8080/",
          "height": 36
        },
        "id": "15TXE7zEux5U",
        "outputId": "2025faee-da43-46e0-879a-71a9c463c5c9"
      },
      "execution_count": null,
      "outputs": [
        {
          "output_type": "execute_result",
          "data": {
            "text/plain": [
              "'2.18.0'"
            ],
            "application/vnd.google.colaboratory.intrinsic+json": {
              "type": "string"
            }
          },
          "metadata": {},
          "execution_count": 13
        }
      ]
    },
    {
      "cell_type": "code",
      "source": [
        "x = tf.constant([])"
      ],
      "metadata": {
        "id": "ye7jFIZyvaus"
      },
      "execution_count": null,
      "outputs": []
    },
    {
      "cell_type": "code",
      "source": [
        "#scalar\n",
        "sc = tf.constant(7)\n",
        "print(sc)"
      ],
      "metadata": {
        "colab": {
          "base_uri": "https://localhost:8080/"
        },
        "id": "dD5k2K-Uv1rj",
        "outputId": "6009c872-94b0-484b-a875-abe87b9598fa"
      },
      "execution_count": null,
      "outputs": [
        {
          "output_type": "stream",
          "name": "stdout",
          "text": [
            "tf.Tensor(7, shape=(), dtype=int32)\n"
          ]
        }
      ]
    },
    {
      "cell_type": "code",
      "source": [
        "#vector\n",
        "vc = tf.constant([10,10])\n",
        "vc2 = tf.constant([[10],[10]])\n",
        "print(vc,vc2)"
      ],
      "metadata": {
        "colab": {
          "base_uri": "https://localhost:8080/"
        },
        "id": "y1ikZxGIwAOb",
        "outputId": "18ca9cfd-a02e-495c-b3f2-0cfa0499b675"
      },
      "execution_count": null,
      "outputs": [
        {
          "output_type": "stream",
          "name": "stdout",
          "text": [
            "tf.Tensor([10 10], shape=(2,), dtype=int32) tf.Tensor(\n",
            "[[10]\n",
            " [10]], shape=(2, 1), dtype=int32)\n"
          ]
        }
      ]
    },
    {
      "cell_type": "code",
      "source": [
        "#matrix\n",
        "M = tf.constant([[10,7],[7,10]])\n",
        "print(M)"
      ],
      "metadata": {
        "colab": {
          "base_uri": "https://localhost:8080/"
        },
        "id": "yhEFWA3QwFvj",
        "outputId": "1cd0869e-8a40-45da-de18-b4387fb3ca9e"
      },
      "execution_count": null,
      "outputs": [
        {
          "output_type": "stream",
          "name": "stdout",
          "text": [
            "tf.Tensor(\n",
            "[[10  7]\n",
            " [ 7 10]], shape=(2, 2), dtype=int32)\n"
          ]
        }
      ]
    },
    {
      "cell_type": "code",
      "source": [
        "#multi-dim\n",
        "tensor = tf.constant([[[1,2,3],[4,5,6]]])\n",
        "print(tensor)"
      ],
      "metadata": {
        "colab": {
          "base_uri": "https://localhost:8080/"
        },
        "id": "jFWHIpc0wJNM",
        "outputId": "8c03d752-1007-4a3d-879b-4934bfcd37ab"
      },
      "execution_count": null,
      "outputs": [
        {
          "output_type": "stream",
          "name": "stdout",
          "text": [
            "tf.Tensor(\n",
            "[[[1 2 3]\n",
            "  [4 5 6]]], shape=(1, 2, 3), dtype=int32)\n"
          ]
        }
      ]
    },
    {
      "cell_type": "markdown",
      "source": [
        "#Task2"
      ],
      "metadata": {
        "id": "R3BCj96uxgL7"
      }
    },
    {
      "cell_type": "markdown",
      "source": [
        "Perform basic operations using Tensorflow (Defining constants, variables, concatenation, add, multiply, reduce mean, reduce sum)"
      ],
      "metadata": {
        "id": "SK0WnSQu0PBT"
      }
    },
    {
      "cell_type": "code",
      "source": [
        "var = tf.Variable([10,7])\n",
        "var"
      ],
      "metadata": {
        "colab": {
          "base_uri": "https://localhost:8080/"
        },
        "id": "v5I_aRPBxSGc",
        "outputId": "54fb7a3f-0e36-476c-c2a6-96ce94769b31"
      },
      "execution_count": null,
      "outputs": [
        {
          "output_type": "execute_result",
          "data": {
            "text/plain": [
              "<tf.Variable 'Variable:0' shape=(2,) dtype=int32, numpy=array([10,  7], dtype=int32)>"
            ]
          },
          "metadata": {},
          "execution_count": 20
        }
      ]
    },
    {
      "cell_type": "code",
      "source": [
        "var.assign([4,5])\n",
        "var"
      ],
      "metadata": {
        "colab": {
          "base_uri": "https://localhost:8080/"
        },
        "id": "qMLYTaQNxwyj",
        "outputId": "7c898ee4-02c3-42e2-9e6e-30a86fcb82a1"
      },
      "execution_count": null,
      "outputs": [
        {
          "output_type": "execute_result",
          "data": {
            "text/plain": [
              "<tf.Variable 'Variable:0' shape=(2,) dtype=int32, numpy=array([4, 5], dtype=int32)>"
            ]
          },
          "metadata": {},
          "execution_count": 22
        }
      ]
    },
    {
      "cell_type": "code",
      "source": [
        "var.assign_add([1,1])\n",
        "var"
      ],
      "metadata": {
        "colab": {
          "base_uri": "https://localhost:8080/"
        },
        "id": "zUvZWxdQx6e7",
        "outputId": "85b42620-db4f-496c-badf-c4bbd71cae8d"
      },
      "execution_count": null,
      "outputs": [
        {
          "output_type": "execute_result",
          "data": {
            "text/plain": [
              "<tf.Variable 'Variable:0' shape=(2,) dtype=int32, numpy=array([5, 6], dtype=int32)>"
            ]
          },
          "metadata": {},
          "execution_count": 23
        }
      ]
    },
    {
      "cell_type": "code",
      "source": [
        "var.assign_sub([2,2])\n",
        "var"
      ],
      "metadata": {
        "colab": {
          "base_uri": "https://localhost:8080/"
        },
        "id": "DMcTMPReyESs",
        "outputId": "cfc174da-1607-4860-e67b-e2c4a0799636"
      },
      "execution_count": null,
      "outputs": [
        {
          "output_type": "execute_result",
          "data": {
            "text/plain": [
              "<tf.Variable 'Variable:0' shape=(2,) dtype=int32, numpy=array([3, 4], dtype=int32)>"
            ]
          },
          "metadata": {},
          "execution_count": 24
        }
      ]
    },
    {
      "cell_type": "code",
      "source": [
        "mul = tf.multiply(M,M)\n",
        "mul"
      ],
      "metadata": {
        "colab": {
          "base_uri": "https://localhost:8080/"
        },
        "id": "rXs8UYQ5yK2s",
        "outputId": "c380f258-0b95-41e4-d5fa-4ddc254cbcca"
      },
      "execution_count": null,
      "outputs": [
        {
          "output_type": "execute_result",
          "data": {
            "text/plain": [
              "<tf.Tensor: shape=(2, 2), dtype=int32, numpy=\n",
              "array([[100,  49],\n",
              "       [ 49, 100]], dtype=int32)>"
            ]
          },
          "metadata": {},
          "execution_count": 26
        }
      ]
    },
    {
      "cell_type": "code",
      "source": [
        "div = tf.divide(mul,M)\n",
        "div"
      ],
      "metadata": {
        "colab": {
          "base_uri": "https://localhost:8080/"
        },
        "id": "rAenYBMNySwk",
        "outputId": "6866e29e-1d44-4be6-cf3f-426e7cc84fa8"
      },
      "execution_count": null,
      "outputs": [
        {
          "output_type": "execute_result",
          "data": {
            "text/plain": [
              "<tf.Tensor: shape=(2, 2), dtype=float64, numpy=\n",
              "array([[10.,  7.],\n",
              "       [ 7., 10.]])>"
            ]
          },
          "metadata": {},
          "execution_count": 27
        }
      ]
    },
    {
      "cell_type": "code",
      "source": [
        "rm = tf.random.uniform(shape=[5,300])\n",
        "rm2 = tf.random.uniform(shape=[5,300])\n",
        "rs = tf.matmul(rm,tf.transpose(rm2))\n",
        "rs"
      ],
      "metadata": {
        "colab": {
          "base_uri": "https://localhost:8080/"
        },
        "id": "gGI4O8Nuyb5N",
        "outputId": "a1c8471a-97b7-4b6a-eea1-174fae08cfb2"
      },
      "execution_count": null,
      "outputs": [
        {
          "output_type": "execute_result",
          "data": {
            "text/plain": [
              "<tf.Tensor: shape=(5, 5), dtype=float32, numpy=\n",
              "array([[71.192795, 75.19972 , 77.30524 , 80.646545, 74.79071 ],\n",
              "       [74.69861 , 78.352486, 81.21193 , 80.53564 , 77.68584 ],\n",
              "       [77.90871 , 77.10823 , 82.28703 , 80.86358 , 81.07969 ],\n",
              "       [72.71721 , 74.27354 , 75.84098 , 77.33832 , 74.62357 ],\n",
              "       [68.61351 , 73.74401 , 71.30977 , 77.72151 , 75.8367  ]],\n",
              "      dtype=float32)>"
            ]
          },
          "metadata": {},
          "execution_count": 29
        }
      ]
    },
    {
      "cell_type": "code",
      "source": [
        "con = tf.concat([rm,rm2],axis=0)\n",
        "con"
      ],
      "metadata": {
        "colab": {
          "base_uri": "https://localhost:8080/"
        },
        "id": "y-UU0CngyrqM",
        "outputId": "8bad20f3-4c93-40fa-9066-91c9b433dae8"
      },
      "execution_count": null,
      "outputs": [
        {
          "output_type": "execute_result",
          "data": {
            "text/plain": [
              "<tf.Tensor: shape=(10, 300), dtype=float32, numpy=\n",
              "array([[0.72857416, 0.4461894 , 0.49126387, ..., 0.37024713, 0.4835626 ,\n",
              "        0.40439117],\n",
              "       [0.5111356 , 0.43037164, 0.34401608, ..., 0.40824127, 0.09408927,\n",
              "        0.06421041],\n",
              "       [0.92444897, 0.03412271, 0.2410003 , ..., 0.84939945, 0.3068099 ,\n",
              "        0.69564056],\n",
              "       ...,\n",
              "       [0.10027921, 0.21737218, 0.08808911, ..., 0.20475376, 0.8809658 ,\n",
              "        0.5431243 ],\n",
              "       [0.30970836, 0.67150295, 0.56579375, ..., 0.68288064, 0.83088446,\n",
              "        0.01520967],\n",
              "       [0.8563987 , 0.01707304, 0.20151365, ..., 0.8749007 , 0.50946736,\n",
              "        0.76626766]], dtype=float32)>"
            ]
          },
          "metadata": {},
          "execution_count": 30
        }
      ]
    },
    {
      "cell_type": "code",
      "source": [
        "tp = tf.multiply(vc,5)\n",
        "tp"
      ],
      "metadata": {
        "colab": {
          "base_uri": "https://localhost:8080/"
        },
        "id": "Bli8h8gsyzik",
        "outputId": "9efb880b-0e0a-4b59-92b4-f19ea3b61dcd"
      },
      "execution_count": null,
      "outputs": [
        {
          "output_type": "execute_result",
          "data": {
            "text/plain": [
              "<tf.Tensor: shape=(2,), dtype=int32, numpy=array([50, 50], dtype=int32)>"
            ]
          },
          "metadata": {},
          "execution_count": 31
        }
      ]
    },
    {
      "cell_type": "code",
      "source": [
        "reducem = tf.reduce_max(M)\n",
        "reducem"
      ],
      "metadata": {
        "colab": {
          "base_uri": "https://localhost:8080/"
        },
        "id": "0ujR2vhOziYU",
        "outputId": "55b0bdd4-1001-4edd-e26b-fcbf549f6712"
      },
      "execution_count": null,
      "outputs": [
        {
          "output_type": "execute_result",
          "data": {
            "text/plain": [
              "<tf.Tensor: shape=(), dtype=int32, numpy=10>"
            ]
          },
          "metadata": {},
          "execution_count": 32
        }
      ]
    },
    {
      "cell_type": "code",
      "source": [
        "reduces = tf.reduce_min(M)\n",
        "reduces"
      ],
      "metadata": {
        "colab": {
          "base_uri": "https://localhost:8080/"
        },
        "id": "KZa_hGLmzwr-",
        "outputId": "31bae924-7f5a-40a8-9b0b-46f11eebfe47"
      },
      "execution_count": null,
      "outputs": [
        {
          "output_type": "execute_result",
          "data": {
            "text/plain": [
              "<tf.Tensor: shape=(), dtype=int32, numpy=7>"
            ]
          },
          "metadata": {},
          "execution_count": 33
        }
      ]
    },
    {
      "cell_type": "markdown",
      "source": [
        "#Task3"
      ],
      "metadata": {
        "id": "jdFmqBI9z4bU"
      }
    },
    {
      "cell_type": "markdown",
      "source": [
        "Perform linear algebra operations using Tensorflow (transpose, matrix multiplication, elementwise multiplication, determinant)"
      ],
      "metadata": {
        "id": "x0Z6cMq_0KJD"
      }
    },
    {
      "cell_type": "code",
      "source": [
        "matrix1 = tf.constant([[1, 2], [3, 4]])\n",
        "matrix2 = tf.constant([[5, 6], [7, 8]])\n",
        "\n",
        "transpose = tf.transpose(matrix1)\n",
        "\n",
        "matmul = tf.matmul(matrix1, matrix2)"
      ],
      "metadata": {
        "id": "kJSvKgacz0ti"
      },
      "execution_count": null,
      "outputs": []
    },
    {
      "cell_type": "code",
      "source": [
        "transpose"
      ],
      "metadata": {
        "colab": {
          "base_uri": "https://localhost:8080/"
        },
        "id": "1FEumLI30Xkd",
        "outputId": "20ae922e-6237-4c6c-c830-0d90dc75ba13"
      },
      "execution_count": null,
      "outputs": [
        {
          "output_type": "execute_result",
          "data": {
            "text/plain": [
              "<tf.Tensor: shape=(2, 2), dtype=int32, numpy=\n",
              "array([[1, 3],\n",
              "       [2, 4]], dtype=int32)>"
            ]
          },
          "metadata": {},
          "execution_count": 35
        }
      ]
    },
    {
      "cell_type": "code",
      "source": [
        "matmul"
      ],
      "metadata": {
        "colab": {
          "base_uri": "https://localhost:8080/"
        },
        "id": "AkgVUEK90ZqV",
        "outputId": "7e1cb6d8-e737-4a84-9bb8-07a3ca8c0572"
      },
      "execution_count": null,
      "outputs": [
        {
          "output_type": "execute_result",
          "data": {
            "text/plain": [
              "<tf.Tensor: shape=(2, 2), dtype=int32, numpy=\n",
              "array([[19, 22],\n",
              "       [43, 50]], dtype=int32)>"
            ]
          },
          "metadata": {},
          "execution_count": 36
        }
      ]
    },
    {
      "cell_type": "code",
      "source": [
        "elemul = tf.multiply(matrix1, matrix2)\n",
        "elemul"
      ],
      "metadata": {
        "colab": {
          "base_uri": "https://localhost:8080/"
        },
        "id": "05fiMXL_0ai1",
        "outputId": "420f6586-8bdd-48f2-d02b-92de6e45dac2"
      },
      "execution_count": null,
      "outputs": [
        {
          "output_type": "execute_result",
          "data": {
            "text/plain": [
              "<tf.Tensor: shape=(2, 2), dtype=int32, numpy=\n",
              "array([[ 5, 12],\n",
              "       [21, 32]], dtype=int32)>"
            ]
          },
          "metadata": {},
          "execution_count": 37
        }
      ]
    },
    {
      "cell_type": "code",
      "source": [
        "d = tf.cast(matrix1, dtype=tf.float32)\n",
        "d"
      ],
      "metadata": {
        "colab": {
          "base_uri": "https://localhost:8080/"
        },
        "id": "MTnychXw08F0",
        "outputId": "6d261922-59fd-42d1-d467-0ee5b234ad81"
      },
      "execution_count": null,
      "outputs": [
        {
          "output_type": "execute_result",
          "data": {
            "text/plain": [
              "<tf.Tensor: shape=(2, 2), dtype=float32, numpy=\n",
              "array([[1., 2.],\n",
              "       [3., 4.]], dtype=float32)>"
            ]
          },
          "metadata": {},
          "execution_count": 40
        }
      ]
    },
    {
      "cell_type": "code",
      "source": [
        "det = tf.linalg.det(d)\n",
        "det"
      ],
      "metadata": {
        "colab": {
          "base_uri": "https://localhost:8080/"
        },
        "id": "DIAt4u9e12Qk",
        "outputId": "f3a9b774-b4f0-4161-c002-c9a8ce3926dd"
      },
      "execution_count": null,
      "outputs": [
        {
          "output_type": "execute_result",
          "data": {
            "text/plain": [
              "<tf.Tensor: shape=(), dtype=float32, numpy=-2.0>"
            ]
          },
          "metadata": {},
          "execution_count": 43
        }
      ]
    },
    {
      "cell_type": "markdown",
      "source": [
        "#Task4"
      ],
      "metadata": {
        "id": "MCaCbYW52Fg8"
      }
    },
    {
      "cell_type": "markdown",
      "source": [
        "Perform derivative and higher order derivative for function f(x) = x^3 using gradient tape of Tensorflow"
      ],
      "metadata": {
        "id": "rVxspyYf2HjS"
      }
    },
    {
      "cell_type": "code",
      "source": [
        "import tensorflow as tf\n",
        "\n",
        "x = tf.constant(5.0)\n",
        "\n",
        "with tf.GradientTape() as t1:\n",
        "    t1.watch(x)\n",
        "\n",
        "    with tf.GradientTape() as t2:\n",
        "        t2.watch(x)\n",
        "        y = x **3\n",
        "\n",
        "    dy_dx = t2.gradient(y, x)\n",
        "\n",
        "d2y_dx2 = t1.gradient(dy_dx, x)\n",
        "\n",
        "print(\"First-order derivative (dy_dx)\", dy_dx)\n",
        "print(\"Second-order derivative (d2y_dx2)\", d2y_dx2)"
      ],
      "metadata": {
        "colab": {
          "base_uri": "https://localhost:8080/"
        },
        "id": "Ea-7CtNL3JpF",
        "outputId": "440c081c-3837-48ab-b943-53f1c98be6e4"
      },
      "execution_count": null,
      "outputs": [
        {
          "output_type": "stream",
          "name": "stdout",
          "text": [
            "First-order derivative (dy_dx) tf.Tensor(75.0, shape=(), dtype=float32)\n",
            "Second-order derivative (d2y_dx2) tf.Tensor(30.0, shape=(), dtype=float32)\n"
          ]
        }
      ]
    },
    {
      "cell_type": "code",
      "source": [
        "print(dy_dx.numpy())"
      ],
      "metadata": {
        "colab": {
          "base_uri": "https://localhost:8080/"
        },
        "id": "Y1SciEPi5ycG",
        "outputId": "c973b567-e4ae-4670-f804-5516375325d1"
      },
      "execution_count": null,
      "outputs": [
        {
          "output_type": "stream",
          "name": "stdout",
          "text": [
            "75.0\n"
          ]
        }
      ]
    },
    {
      "cell_type": "markdown",
      "source": [
        "#Task5"
      ],
      "metadata": {
        "id": "XXWPk3AH6O-r"
      }
    },
    {
      "cell_type": "markdown",
      "source": [
        "Compute WX+b using Tensorflow where W, X,  and b are drawn from a random normal distribution. W is of shape (4, 3), X is (3,1) and b is (4,1)"
      ],
      "metadata": {
        "id": "pXrfk4ZP6RQs"
      }
    },
    {
      "cell_type": "code",
      "source": [
        "x = tf.constant(np.random.randn(3,1))\n",
        "w = tf.constant(np.random.randn(4,3))\n",
        "b = tf.constant(np.random.randn(4,1))\n",
        "y = tf.add(tf.matmul(w,x),b)\n",
        "y"
      ],
      "metadata": {
        "colab": {
          "base_uri": "https://localhost:8080/"
        },
        "id": "NX_PWaZm6JJk",
        "outputId": "2da46b31-6312-4eaf-dc3a-cd06b317255b"
      },
      "execution_count": null,
      "outputs": [
        {
          "output_type": "execute_result",
          "data": {
            "text/plain": [
              "<tf.Tensor: shape=(4, 1), dtype=float64, numpy=\n",
              "array([[ 3.71689274],\n",
              "       [-0.04429285],\n",
              "       [-3.08236801],\n",
              "       [-6.95277363]])>"
            ]
          },
          "metadata": {},
          "execution_count": 59
        }
      ]
    },
    {
      "cell_type": "markdown",
      "source": [
        "#Task6"
      ],
      "metadata": {
        "id": "yUmjKIjS7xf0"
      }
    },
    {
      "cell_type": "markdown",
      "source": [
        "Compute Gradient of sigmoid function using Tensor flow"
      ],
      "metadata": {
        "id": "aQJjcmIr71lM"
      }
    },
    {
      "cell_type": "code",
      "source": [
        "x = tf.constant(5.0)\n",
        "\n",
        "with tf.GradientTape() as tape:\n",
        "\n",
        "    tape.watch(x)\n",
        "\n",
        "    y = tf.sigmoid(x)\n",
        "\n",
        "gradient = tape.gradient(y, x)\n",
        "\n",
        "print(f\"Input x: {x.numpy()}\")\n",
        "print(f\"Sigmoid of x: {y.numpy()}\")\n",
        "print(f\"Gradient of sigmoid at x: {gradient.numpy()}\")"
      ],
      "metadata": {
        "colab": {
          "base_uri": "https://localhost:8080/"
        },
        "id": "PaHdrxiw7y8V",
        "outputId": "bf8d8b2f-925e-4475-f8eb-c615ef3b1bfd"
      },
      "execution_count": null,
      "outputs": [
        {
          "output_type": "stream",
          "name": "stdout",
          "text": [
            "Input x: 5.0\n",
            "Sigmoid of x: 0.9933071732521057\n",
            "Gradient of sigmoid at x: 0.0066480329260230064\n"
          ]
        }
      ]
    },
    {
      "cell_type": "markdown",
      "source": [
        "Conclusion : Gained hands-on experience with the TensorFlow library by executing a range of basic functions and operations."
      ],
      "metadata": {
        "id": "6OxuJDkU-tgF"
      }
    }
  ]
}
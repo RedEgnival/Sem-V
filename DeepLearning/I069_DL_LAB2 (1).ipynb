{
  "nbformat": 4,
  "nbformat_minor": 0,
  "metadata": {
    "colab": {
      "provenance": []
    },
    "kernelspec": {
      "name": "python3",
      "display_name": "Python 3"
    },
    "language_info": {
      "name": "python"
    }
  },
  "cells": [
    {
      "cell_type": "markdown",
      "source": [
        "\n",
        "# Rusheel Sharma\n",
        "\n",
        "# I069\n",
        "\n",
        "# BTech AI\n",
        "\n",
        "# DL LAB 2 B2"
      ],
      "metadata": {
        "id": "yNHasx5U19gs"
      }
    },
    {
      "cell_type": "code",
      "execution_count": null,
      "metadata": {
        "id": "e3lNApO4zDPM"
      },
      "outputs": [],
      "source": [
        "import numpy as np\n",
        "import tensorflow as tf"
      ]
    },
    {
      "cell_type": "markdown",
      "source": [
        "# Task 1"
      ],
      "metadata": {
        "id": "Xak75inU33Yg"
      }
    },
    {
      "cell_type": "markdown",
      "source": [
        "Implement AND function using single layer perceptron for bipolar inputs and targets. Show output of both the epochs."
      ],
      "metadata": {
        "id": "PUMyYwym37q7"
      }
    },
    {
      "cell_type": "code",
      "source": [
        "x1=np.array([1,1,-1,-1])\n",
        "x2=np.array([1,-1,1,-1])\n",
        "t=np.array([1,-1,-1,-1])\n",
        "\n",
        "#weights and Bias\n",
        "w1=tf.Variable(0.0)\n",
        "w2=tf.Variable(0.0)\n",
        "b=tf.Variable(0.0)\n",
        "theta=tf.constant(0.0)"
      ],
      "metadata": {
        "id": "E6lt6xaezGdG"
      },
      "execution_count": null,
      "outputs": []
    },
    {
      "cell_type": "code",
      "source": [
        "def perceptron(x1,x2,w1,w2,b):\n",
        "  return (w1*x1+w2*x2+b)"
      ],
      "metadata": {
        "id": "UcGm1w-U0XRu"
      },
      "execution_count": null,
      "outputs": []
    },
    {
      "cell_type": "code",
      "source": [
        "def cal(z, theta):\n",
        "  if z > theta:\n",
        "    return 1\n",
        "  elif z >= - theta and z <= -theta:\n",
        "    return 0\n",
        "  else:\n",
        "    return -1"
      ],
      "metadata": {
        "id": "J49x2ffo16Ne"
      },
      "execution_count": null,
      "outputs": []
    },
    {
      "cell_type": "code",
      "source": [
        "#training perceptron\n",
        "from tabulate import tabulate\n",
        "table=[]\n",
        "epoch=2\n",
        "alpha=1\n",
        "for i in range(epoch):\n",
        "  for j in range(4):\n",
        "    z=perceptron(x1[j],x2[j],w1,w2,b)\n",
        "    y=cal(z,theta)\n",
        "    if y != t[j]:\n",
        "      w1.assign_add(alpha*t[j]*x1[j])\n",
        "      w2.assign_add(alpha*t[j]*x2[j])\n",
        "      b.assign_add(alpha*t[j])\n",
        "    table.append([x1[j], x2[j], alpha, t[j], y, w1.numpy(),w2.numpy(),b.numpy()])\n",
        "\n",
        "headers = [\"x1\",\"x2\",\"alpha\",\"t\",\"y\",\"w1\",\"w2\",\"b\"]\n",
        "print(tabulate(table, headers, tablefmt=\"grid\"))"
      ],
      "metadata": {
        "colab": {
          "base_uri": "https://localhost:8080/"
        },
        "id": "IZKKtP5O2RSm",
        "outputId": "9c67a217-7ec0-4fe1-c4b4-9aec3e874776"
      },
      "execution_count": null,
      "outputs": [
        {
          "output_type": "stream",
          "name": "stdout",
          "text": [
            "+------+------+---------+-----+-----+------+------+-----+\n",
            "|   x1 |   x2 |   alpha |   t |   y |   w1 |   w2 |   b |\n",
            "+======+======+=========+=====+=====+======+======+=====+\n",
            "|    1 |    1 |       1 |   1 |   1 |    1 |    1 |   1 |\n",
            "+------+------+---------+-----+-----+------+------+-----+\n",
            "|    1 |   -1 |       1 |  -1 |   1 |    0 |    2 |   0 |\n",
            "+------+------+---------+-----+-----+------+------+-----+\n",
            "|   -1 |    1 |       1 |  -1 |   1 |    1 |    1 |  -1 |\n",
            "+------+------+---------+-----+-----+------+------+-----+\n",
            "|   -1 |   -1 |       1 |  -1 |  -1 |    1 |    1 |  -1 |\n",
            "+------+------+---------+-----+-----+------+------+-----+\n",
            "|    1 |    1 |       1 |   1 |   1 |    1 |    1 |  -1 |\n",
            "+------+------+---------+-----+-----+------+------+-----+\n",
            "|    1 |   -1 |       1 |  -1 |  -1 |    1 |    1 |  -1 |\n",
            "+------+------+---------+-----+-----+------+------+-----+\n",
            "|   -1 |    1 |       1 |  -1 |  -1 |    1 |    1 |  -1 |\n",
            "+------+------+---------+-----+-----+------+------+-----+\n",
            "|   -1 |   -1 |       1 |  -1 |  -1 |    1 |    1 |  -1 |\n",
            "+------+------+---------+-----+-----+------+------+-----+\n"
          ]
        }
      ]
    },
    {
      "cell_type": "markdown",
      "source": [
        "# Task 2"
      ],
      "metadata": {
        "id": "8Xo5aclQ4IAO"
      }
    },
    {
      "cell_type": "markdown",
      "source": [
        "Plot the decision boundary for the above task"
      ],
      "metadata": {
        "id": "Xf5G81z34Kld"
      }
    },
    {
      "cell_type": "code",
      "source": [
        "import matplotlib.pyplot as plt"
      ],
      "metadata": {
        "id": "avgGgbEZ56xs"
      },
      "execution_count": null,
      "outputs": []
    },
    {
      "cell_type": "code",
      "source": [
        "plt.figure(figsize=(8,6))\n",
        "for i in range(len(x1)):\n",
        "  if t[i]==1:\n",
        "    plt.scatter(x1[i], x2[i], color='blue', marker='o', label='class 1' if i==0 else 'class -1')\n",
        "  else:\n",
        "    plt.scatter(x1[i], x2[i], color='red', marker='x' , label='class -1')\n",
        "\n",
        "x_vals=np.linspace(-2,2,100)\n",
        "y_vals=-(w1.numpy()*x_vals+b.numpy())/w2.numpy()\n",
        "plt.plot(x_vals, y_vals, '--', color='black', label='Decision Boundary')\n",
        "plt.xlabel(\"x1\")\n",
        "plt.ylabel(\"x2\")\n",
        "plt.title(\"AND Function\")\n",
        "plt.legend()\n",
        "plt.grid(True)\n",
        "plt.show()"
      ],
      "metadata": {
        "colab": {
          "base_uri": "https://localhost:8080/",
          "height": 564
        },
        "id": "jL17ROMj6IO0",
        "outputId": "a9b52ea9-f5f8-4934-f58c-04b7c14c3a37"
      },
      "execution_count": null,
      "outputs": [
        {
          "output_type": "display_data",
          "data": {
            "text/plain": [
              "<Figure size 800x600 with 1 Axes>"
            ],
            "image/png": "[encoded data removed]"
          },
          "metadata": {}
        }
      ]
    },
    {
      "cell_type": "markdown",
      "source": [
        "# Task 3"
      ],
      "metadata": {
        "id": "JuEfKMrf4PeW"
      }
    },
    {
      "cell_type": "markdown",
      "source": [
        "Describe the limitations of single layer perceptron network."
      ],
      "metadata": {
        "id": "135V5ocU4R5e"
      }
    },
    {
      "cell_type": "markdown",
      "source": [
        "Single-layer perceptrons are limited to solving linearly separable problems; they cannot learn complex non-linear patterns. They struggle with tasks like the XOR problem and are mainly used for simple binary classification. Their inability to handle non-linear data restricts their application in more complex scenarios."
      ],
      "metadata": {
        "id": "X3tQjaSF_0Mg"
      }
    },
    {
      "cell_type": "markdown",
      "source": [
        "# Task 4"
      ],
      "metadata": {
        "id": "JerAKCiE4VI5"
      }
    },
    {
      "cell_type": "markdown",
      "source": [
        "Prepare a time line for the major inventions and developments of Deep neural networks starting from Mclaulloh Pitts neuron."
      ],
      "metadata": {
        "id": "wMmkXo-74XiJ"
      }
    },
    {
      "cell_type": "markdown",
      "source": [
        "Starting with the McCulloch-Pitts neuron (1943) and Perceptron (1957), backpropagation in the 80s enabled multi-layer networks.\n",
        "\n",
        "GPU advancements and large datasets in the 2000s fueled deep learning and CNNs for image processing.\n",
        "\n",
        "The 2010s brought RNNs, LSTMs, and Transformers, revolutionizing NLP, speech, and computer vision."
      ],
      "metadata": {
        "id": "f4uE2xgfAMps"
      }
    },
    {
      "cell_type": "markdown",
      "source": [
        "# Conclusion"
      ],
      "metadata": {
        "id": "Ibd67axjAo3X"
      }
    },
    {
      "cell_type": "markdown",
      "source": [
        "Implemented AND function using single layer perceptron for biploar inputs and targets"
      ],
      "metadata": {
        "id": "nBah_QUYArnX"
      }
    }
  ]
}